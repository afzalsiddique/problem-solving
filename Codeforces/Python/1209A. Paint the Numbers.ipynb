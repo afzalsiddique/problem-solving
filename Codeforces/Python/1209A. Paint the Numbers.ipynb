{
 "cells": [
  {
   "cell_type": "code",
   "execution_count": 14,
   "metadata": {},
   "outputs": [
    {
     "name": "stdout",
     "output_type": "stream",
     "text": [
      "8\n",
      "7 6 5 4 3 2 2 3\n",
      "4\n"
     ]
    }
   ],
   "source": [
    "n=int(input())\n",
    "a=sorted(list(map(int,input().split())))\n",
    "\n",
    "def name(num):\n",
    "    for i in range(len(a)):\n",
    "        if (a[i]%num)==0:\n",
    "            a[i]=0\n",
    "            \n",
    "count=0\n",
    "for num in a:\n",
    "    if num!=0:\n",
    "#         print(num,a)\n",
    "        name(num)\n",
    "        count+=1\n",
    "# print(a)\n",
    "print(count)"
   ]
  }
 ],
 "metadata": {
  "kernelspec": {
   "display_name": "Python 3",
   "language": "python",
   "name": "python3"
  },
  "language_info": {
   "codemirror_mode": {
    "name": "ipython",
    "version": 3
   },
   "file_extension": ".py",
   "mimetype": "text/x-python",
   "name": "python",
   "nbconvert_exporter": "python",
   "pygments_lexer": "ipython3",
   "version": "3.7.5"
  }
 },
 "nbformat": 4,
 "nbformat_minor": 2
}
