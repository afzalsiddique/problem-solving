{
 "cells": [
  {
   "cell_type": "code",
   "execution_count": 7,
   "metadata": {},
   "outputs": [
    {
     "name": "stdout",
     "output_type": "stream",
     "text": [
      "4 6\n",
      "2 4 3 5\n"
     ]
    }
   ],
   "source": [
    "n,k=[int(x) for x in input().split()]\n",
    "a=[int(x) for x in input().split()]\n",
    "acopy=[x for x in a]"
   ]
  },
  {
   "cell_type": "code",
   "execution_count": 8,
   "metadata": {},
   "outputs": [
    {
     "name": "stdout",
     "output_type": "stream",
     "text": [
      "0\n",
      "2 4 3 5 "
     ]
    }
   ],
   "source": [
    "summ=0\n",
    "if n==3:\n",
    "    if a[0]+a[1]<k:\n",
    "        a[1]=k-a[0]\n",
    "    if a[1]+a[2]<k:\n",
    "        a[2]=k-a[1]\n",
    "else:\n",
    "    for i in range(n-1):\n",
    "        if i==n-2:\n",
    "            if a[i]+a[i+1]<k:\n",
    "                a[i]=k-a[i+1]\n",
    "        else:\n",
    "            if a[i]+a[i+1]<k:\n",
    "                a[i+1]=k-a[i]\n",
    "                \n",
    "summ=sum([abs(x1-x2) for (x1, x2) in zip(a, acopy)])\n",
    "print(summ)\n",
    "for item in a:\n",
    "    print(item,end=' ')"
   ]
  }
 ],
 "metadata": {
  "kernelspec": {
   "display_name": "Python 3",
   "language": "python",
   "name": "python3"
  },
  "language_info": {
   "codemirror_mode": {
    "name": "ipython",
    "version": 3
   },
   "file_extension": ".py",
   "mimetype": "text/x-python",
   "name": "python",
   "nbconvert_exporter": "python",
   "pygments_lexer": "ipython3",
   "version": "3.7.5"
  }
 },
 "nbformat": 4,
 "nbformat_minor": 2
}
