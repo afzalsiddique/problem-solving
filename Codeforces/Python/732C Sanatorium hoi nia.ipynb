{
 "cells": [
  {
   "cell_type": "code",
   "execution_count": null,
   "metadata": {},
   "outputs": [],
   "source": [
    "a=[-1,-1,-1]"
   ]
  },
  {
   "cell_type": "code",
   "execution_count": null,
   "metadata": {},
   "outputs": [],
   "source": [
    "a=[int(x) for x in input().split()]"
   ]
  },
  {
   "cell_type": "code",
   "execution_count": null,
   "metadata": {},
   "outputs": [],
   "source": [
    "a[0],a[1],a[2]=3,2,1"
   ]
  },
  {
   "cell_type": "code",
   "execution_count": null,
   "metadata": {},
   "outputs": [],
   "source": [
    "a[0],a[1],a[2]=1,1,1"
   ]
  },
  {
   "cell_type": "code",
   "execution_count": null,
   "metadata": {},
   "outputs": [],
   "source": [
    "a[0],a[1],a[2]=1,0,0"
   ]
  },
  {
   "cell_type": "code",
   "execution_count": null,
   "metadata": {},
   "outputs": [],
   "source": [
    "a[0],a[1],a[2]=5,5,2"
   ]
  },
  {
   "cell_type": "code",
   "execution_count": null,
   "metadata": {},
   "outputs": [],
   "source": [
    "a[0],a[1],a[2]=6,8,5"
   ]
  },
  {
   "cell_type": "code",
   "execution_count": null,
   "metadata": {},
   "outputs": [],
   "source": [
    "a[0],a[1],a[2]=0,8,5"
   ]
  },
  {
   "cell_type": "code",
   "execution_count": null,
   "metadata": {},
   "outputs": [],
   "source": [
    "a[0],a[1],a[2]=1000000000000000000, 0, 1000000000000000000\n"
   ]
  },
  {
   "cell_type": "code",
   "execution_count": null,
   "metadata": {},
   "outputs": [],
   "source": [
    "li=[False for x in range(max(a)*3)]\n",
    "for i in range(a[0]):\n",
    "    li[i*3]=True\n",
    "for i in range(a[1]):\n",
    "    li[i*3+1]=True\n",
    "for i in range(a[2]):\n",
    "    li[i*3+2]=True\n",
    "if li[0]==False:\n",
    "    li[0]=True\n",
    "    if li[1]==False:\n",
    "        li[1]==True\n",
    "if li[-1]==False:\n",
    "    li[-1]=True\n",
    "    if li[-2]==False:\n",
    "        li[-2]=True\n",
    "\n",
    "count=0\n",
    "for item in li:\n",
    "    if item==False:\n",
    "        count+=1\n",
    "print(count)"
   ]
  },
  {
   "cell_type": "code",
   "execution_count": null,
   "metadata": {},
   "outputs": [],
   "source": [
    "if a[0]==a[1]==a[2]:\n",
    "    print(0)\n",
    "elif a[0]==a[1] or a[1]==a[2] or a[0]==a[2]:\n",
    "    print(max(a[0],a[1],a[2])*3-(a[0]+a[1]+a[2]))\n",
    "else:\n",
    "    ans=(a[a.index(max(a))]-1)*3"
   ]
  },
  {
   "cell_type": "code",
   "execution_count": null,
   "metadata": {},
   "outputs": [],
   "source": [
    "a.index(max(a))\n"
   ]
  }
 ],
 "metadata": {
  "kernelspec": {
   "display_name": "Python 3",
   "language": "python",
   "name": "python3"
  },
  "language_info": {
   "codemirror_mode": {
    "name": "ipython",
    "version": 3
   },
   "file_extension": ".py",
   "mimetype": "text/x-python",
   "name": "python",
   "nbconvert_exporter": "python",
   "pygments_lexer": "ipython3",
   "version": "3.7.5"
  }
 },
 "nbformat": 4,
 "nbformat_minor": 2
}
