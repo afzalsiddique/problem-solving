{
 "cells": [
  {
   "cell_type": "code",
   "execution_count": 8,
   "metadata": {},
   "outputs": [
    {
     "name": "stdout",
     "output_type": "stream",
     "text": [
      "4\n",
      "4 3 2 1\n",
      "-1 -1 -1 -1 "
     ]
    }
   ],
   "source": [
    "n=int(input())\n",
    "arr = list(map(int, input().split()))\n",
    "for x in arr:\n",
    "    flag=False\n",
    "    for y in range(arr.index(x)+1,len(arr)):\n",
    "        if arr[y]>x:\n",
    "            flag=True\n",
    "            break\n",
    "    if flag:\n",
    "        print(arr[y],end=' ')\n",
    "    else:\n",
    "        print(-1,end=' ')\n",
    "#print(arr)"
   ]
  },
  {
   "cell_type": "code",
   "execution_count": null,
   "metadata": {},
   "outputs": [],
   "source": []
  }
 ],
 "metadata": {
  "kernelspec": {
   "display_name": "Python 3",
   "language": "python",
   "name": "python3"
  },
  "language_info": {
   "codemirror_mode": {
    "name": "ipython",
    "version": 3
   },
   "file_extension": ".py",
   "mimetype": "text/x-python",
   "name": "python",
   "nbconvert_exporter": "python",
   "pygments_lexer": "ipython3",
   "version": "3.7.3"
  }
 },
 "nbformat": 4,
 "nbformat_minor": 2
}
