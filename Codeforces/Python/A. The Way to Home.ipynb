{
 "cells": [
  {
   "cell_type": "code",
   "execution_count": null,
   "metadata": {},
   "outputs": [],
   "source": [
    "n,d=map(int,input().split())\n",
    "n+=1\n",
    "count=0\n",
    "s='1'+input()\n",
    "pos=1\n",
    "while pos<n-1 and count<n:\n",
    "    if s[pos]=='1':\n",
    "        count+=1\n",
    "        #print(f'pos: {pos} count: {count}' )\n",
    "        pos+=d\n",
    "    else:\n",
    "        pos-=1\n",
    "if count>=n:\n",
    "    print(-1)\n",
    "else:\n",
    "    print(count)"
   ]
  },
  {
   "cell_type": "code",
   "execution_count": null,
   "metadata": {},
   "outputs": [],
   "source": [
    "####hoi nai\n",
    "n,d=map(int,input().split())\n",
    "li='1'+input()\n",
    "current_index=1\n",
    "flag=True\n",
    "count=0\n",
    "while(flag):\n",
    "    if n-current_index<=d:\n",
    "        count+=1\n",
    "        print(f'1count: {count} index: {current_index} i: {i}')\n",
    "        flag=False\n",
    "        break\n",
    "    for i in range(current_index+d,current_index-1,-1):\n",
    "        if i==current_index:\n",
    "            flag=False\n",
    "            count=-1\n",
    "            break\n",
    "        elif '1'==li[i]:\n",
    "            count+=1\n",
    "            print(f'2count: {count} index: {current_index} i: {i}')\n",
    "            current_index+=i\n",
    "        if current_index==n:\n",
    "            flag=False\n",
    "            break\n",
    "print(count)"
   ]
  },
  {
   "cell_type": "code",
   "execution_count": 5,
   "metadata": {},
   "outputs": [
    {
     "name": "stdout",
     "output_type": "stream",
     "text": [
      "12 3\n",
      "101111100101\n",
      "max: 0 i: 2\n",
      "max: 0 i: 2\n",
      "max: 0 i: 3\n",
      "max: 0 i: 3\n",
      "max: 0 i: 3\n",
      "max: 1 i: 4\n",
      "max: 1 i: 4\n",
      "max: 1 i: 4\n",
      "max: 2 i: 5\n",
      "max: 2 i: 5\n",
      "max: 2 i: 5\n",
      "max: 3 i: 6\n",
      "max: 3 i: 6\n",
      "max: 3 i: 6\n",
      "max: 6 i: 9\n",
      "max: 6 i: 9\n",
      "max: 6 i: 9\n",
      "max: 8 i: 11\n",
      "max: 8 i: 11\n",
      "max: 8 i: 11\n",
      "4\n"
     ]
    }
   ],
   "source": [
    "##dp\n",
    "n,d = map(int,input().split())\n",
    "s = input()\n",
    "dp = [100000]*n\n",
    "dp[0] = 0\n",
    "for i in range(n):\n",
    "    if s[i] == '1':\n",
    "        for j in range(max(0,i-d),i):\n",
    "            #print(f'i-d:{i-d} i:{i} max: {max(0,i-d)}')\n",
    "            print(f'max: {max(0,i-d)} i: {i}')\n",
    "            dp[i] = min(dp[i],dp[j]+1)\n",
    "print([-1,dp[n-1]][dp[n-1]!=100000])"
   ]
  }
 ],
 "metadata": {
  "kernelspec": {
   "display_name": "Python 3",
   "language": "python",
   "name": "python3"
  },
  "language_info": {
   "codemirror_mode": {
    "name": "ipython",
    "version": 3
   },
   "file_extension": ".py",
   "mimetype": "text/x-python",
   "name": "python",
   "nbconvert_exporter": "python",
   "pygments_lexer": "ipython3",
   "version": "3.7.3"
  }
 },
 "nbformat": 4,
 "nbformat_minor": 2
}
