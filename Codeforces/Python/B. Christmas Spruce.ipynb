{
 "cells": [
  {
   "cell_type": "code",
   "execution_count": 9,
   "metadata": {},
   "outputs": [
    {
     "name": "stdout",
     "output_type": "stream",
     "text": [
      "8\n",
      "1\n",
      "1\n",
      "1\n",
      "1\n",
      "3\n",
      "3\n",
      "3\n",
      "Yes\n"
     ]
    }
   ],
   "source": [
    "n=int(input())\n",
    "nonLeaf=[False]*n\n",
    "nonLeaf=[100]+nonLeaf #index starts from 1\n",
    "flag=True\n",
    "\n",
    "parent=[]\n",
    "for _ in range(n-1):\n",
    "    parent.append(int(input()))\n",
    "\n",
    "\n",
    "for x in parent:\n",
    "    nonLeaf[x]=True\n",
    "parent=[100,100]+parent #index starts from 1\n",
    "    \n",
    "for vertexindex in range(1,n+1):\n",
    "    if nonLeaf[vertexindex]==True:\n",
    "        count=0\n",
    "        for j in range(2,n+1):\n",
    "            if vertexindex==parent[j] and nonLeaf[j]==False:\n",
    "                count+=1\n",
    "        if count<3:\n",
    "            flag=False\n",
    "            break\n",
    "\n",
    "\n",
    "# print(nonLeaf)\n",
    "\n",
    "\n",
    "\n",
    "if flag==True:\n",
    "    print('Yes')\n",
    "else:\n",
    "    print('No')"
   ]
  },
  {
   "cell_type": "code",
   "execution_count": null,
   "metadata": {},
   "outputs": [],
   "source": [
    "n=int(input())\n",
    "nonLeaf=[False]*n\n",
    "nonLeaf=[100]+nonLeaf #index starts from 1\n",
    "flag=True\n",
    "\n",
    "parent=[int(x) for x in input().split()]\n",
    "\n",
    "\n",
    "for x in parent:\n",
    "    nonLeaf[x]=True\n",
    "parent=[100,100]+parent #index starts from 1\n",
    "    \n",
    "for vertexindex in range(1,n+1):\n",
    "    if nonLeaf[vertexindex]==True:\n",
    "        count=0\n",
    "        for j in range(2,n+1):\n",
    "            if vertexindex==parent[j] and nonLeaf[j]==False:\n",
    "                count+=1\n",
    "        if count<3:\n",
    "            flag=False\n",
    "            break\n",
    "\n",
    "\n",
    "# print(nonLeaf)\n",
    "\n",
    "\n",
    "\n",
    "if flag==True:\n",
    "    print('Yes')\n",
    "else:\n",
    "    print('No')\n",
    "   "
   ]
  },
  {
   "cell_type": "code",
   "execution_count": 3,
   "metadata": {},
   "outputs": [
    {
     "name": "stdout",
     "output_type": "stream",
     "text": [
      "Yes\n"
     ]
    }
   ],
   "source": [
    "# n=7\n",
    "n=8\n",
    "nonLeaf=[False]*n\n",
    "nonLeaf=[100]+nonLeaf\n",
    "\n",
    "# parent=[1,1,1,2,2,2]\n",
    "parent=[1,1,1,1,3,3,3]\n",
    "flag=True\n",
    "\n",
    "for x in parent:\n",
    "    nonLeaf[x]=True\n",
    "parent=[100,100]+parent\n",
    "    \n",
    "for vertexindex in range(1,n+1):\n",
    "    if nonLeaf[vertexindex]==True:\n",
    "        count=0\n",
    "        for j in range(2,n+1):\n",
    "            if vertexindex==parent[j] and nonLeaf[j]==False:\n",
    "                count+=1\n",
    "        if count<3:\n",
    "            flag=False\n",
    "            break\n",
    "\n",
    "\n",
    "# print(nonLeaf)\n",
    "\n",
    "\n",
    "\n",
    "if flag==True:\n",
    "    print('Yes')\n",
    "else:\n",
    "    print('No')"
   ]
  }
 ],
 "metadata": {
  "kernelspec": {
   "display_name": "Python 3",
   "language": "python",
   "name": "python3"
  },
  "language_info": {
   "codemirror_mode": {
    "name": "ipython",
    "version": 3
   },
   "file_extension": ".py",
   "mimetype": "text/x-python",
   "name": "python",
   "nbconvert_exporter": "python",
   "pygments_lexer": "ipython3",
   "version": "3.7.3"
  }
 },
 "nbformat": 4,
 "nbformat_minor": 2
}
