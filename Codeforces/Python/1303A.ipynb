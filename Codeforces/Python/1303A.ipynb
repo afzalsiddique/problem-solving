{
 "cells": [
  {
   "cell_type": "code",
   "execution_count": 54,
   "metadata": {},
   "outputs": [
    {
     "name": "stdout",
     "output_type": "stream",
     "text": [
      "3\n",
      "010011\n",
      "2\n",
      "0\n",
      "0\n",
      "1111000\n",
      "0\n"
     ]
    }
   ],
   "source": [
    "n=int(input())\n",
    "for i in range(n):\n",
    "    s=input()\n",
    "    l=len(s)\n",
    "    first=s.find('1')\n",
    "    last=l-s[::-1].find('1')-1\n",
    "    if first==-1:\n",
    "        print(0)\n",
    "    else:\n",
    "        count=0\n",
    "        for i in range(first,last):\n",
    "            if s[i]=='0':\n",
    "                count+=1\n",
    "        print(count)"
   ]
  }
 ],
 "metadata": {
  "kernelspec": {
   "display_name": "Python 3",
   "language": "python",
   "name": "python3"
  },
  "language_info": {
   "codemirror_mode": {
    "name": "ipython",
    "version": 3
   },
   "file_extension": ".py",
   "mimetype": "text/x-python",
   "name": "python",
   "nbconvert_exporter": "python",
   "pygments_lexer": "ipython3",
   "version": "3.7.5"
  }
 },
 "nbformat": 4,
 "nbformat_minor": 2
}
