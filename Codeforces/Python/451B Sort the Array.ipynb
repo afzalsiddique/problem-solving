{
 "cells": [
  {
   "cell_type": "code",
   "execution_count": 107,
   "metadata": {},
   "outputs": [
    {
     "name": "stdout",
     "output_type": "stream",
     "text": [
      "3\n",
      "3 2 1\n"
     ]
    }
   ],
   "source": [
    "n=int(input())\n",
    "arr=[int(x) for x in input().split()]"
   ]
  },
  {
   "cell_type": "code",
   "execution_count": 108,
   "metadata": {},
   "outputs": [
    {
     "name": "stdout",
     "output_type": "stream",
     "text": [
      "yes\n",
      "1 3\n"
     ]
    }
   ],
   "source": [
    "sortedarr=sorted(arr)\n",
    "left,right=0,n-1\n",
    "\n",
    "if arr==sortedarr:\n",
    "    print('yes') #only increasing order\n",
    "    print('1 1') \n",
    "elif arr==arr[::-1]:\n",
    "    print('yes') #only decreasing order\n",
    "    print(1,n) \n",
    "else:\n",
    "    while(arr[left]==sortedarr[left]):\n",
    "        left+=1\n",
    "    while(arr[right]==sortedarr[right]):\n",
    "        right-=1\n",
    "    \n",
    "\n",
    "    if(arr[left:right+1]==sortedarr[left:right+1][::-1]):\n",
    "        print('yes')\n",
    "        print(left+1,right+1)\n",
    "    else:\n",
    "        print('no')\n"
   ]
  }
 ],
 "metadata": {
  "kernelspec": {
   "display_name": "Python 3",
   "language": "python",
   "name": "python3"
  },
  "language_info": {
   "codemirror_mode": {
    "name": "ipython",
    "version": 3
   },
   "file_extension": ".py",
   "mimetype": "text/x-python",
   "name": "python",
   "nbconvert_exporter": "python",
   "pygments_lexer": "ipython3",
   "version": "3.7.5"
  }
 },
 "nbformat": 4,
 "nbformat_minor": 2
}
