{
 "cells": [
  {
   "cell_type": "code",
   "execution_count": 25,
   "metadata": {},
   "outputs": [
    {
     "name": "stdout",
     "output_type": "stream",
     "text": [
      "8\n",
      "11101111\n",
      "6\n"
     ]
    }
   ],
   "source": [
    "n = int(input())\n",
    "a = input()\n",
    "flag=1\n",
    "while(flag==1):\n",
    "    if a.find('01')!=-1:\n",
    "        a = a[0:a.find('01')] + a[a.find('01')+2:]\n",
    "    elif a.find('10')!=-1:\n",
    "        a = a[0:a.find('10')] + a[a.find('10')+2:]\n",
    "    else:\n",
    "        flag=0\n",
    "    \n",
    "print(len(a))"
   ]
  },
  {
   "cell_type": "code",
   "execution_count": 9,
   "metadata": {},
   "outputs": [
    {
     "name": "stdout",
     "output_type": "stream",
     "text": [
      "0009748\n"
     ]
    }
   ],
   "source": [
    "c = '11110001110000'\n",
    "zero = 0\n",
    "one = 0\n",
    "for i in range(len(c)):\n",
    "    if c[i] == '1' and c[i+1]=='1':\n",
    "        one += 1\n",
    "        continue\n",
    "    elif c[i] == '1' and c[i+1] == '0':\n",
    "        while()"
   ]
  }
 ],
 "metadata": {
  "kernelspec": {
   "display_name": "Python 3",
   "language": "python",
   "name": "python3"
  },
  "language_info": {
   "codemirror_mode": {
    "name": "ipython",
    "version": 3
   },
   "file_extension": ".py",
   "mimetype": "text/x-python",
   "name": "python",
   "nbconvert_exporter": "python",
   "pygments_lexer": "ipython3",
   "version": "3.7.3"
  }
 },
 "nbformat": 4,
 "nbformat_minor": 2
}
