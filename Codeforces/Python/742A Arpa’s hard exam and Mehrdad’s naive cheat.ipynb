{
 "cells": [
  {
   "cell_type": "code",
   "execution_count": 3,
   "metadata": {
    "scrolled": true
   },
   "outputs": [
    {
     "name": "stdout",
     "output_type": "stream",
     "text": [
      "8\n",
      "64\n",
      "512\n",
      "4096\n",
      "32768\n",
      "262144\n",
      "2097152\n",
      "16777216\n",
      "134217728\n",
      "1073741824\n",
      "8589934592\n",
      "68719476736\n",
      "549755813888\n",
      "4398046511104\n",
      "35184372088832\n",
      "281474976710656\n",
      "2251799813685248\n",
      "18014398509481984\n",
      "144115188075855872\n"
     ]
    }
   ],
   "source": [
    "for i in range(1,20):\n",
    "    print(pow(8,i))"
   ]
  },
  {
   "cell_type": "code",
   "execution_count": 1,
   "metadata": {
    "scrolled": true
   },
   "outputs": [
    {
     "data": {
      "text/plain": [
       "81"
      ]
     },
     "execution_count": 1,
     "metadata": {},
     "output_type": "execute_result"
    }
   ],
   "source": [
    "n=int(input())\n",
    "if n==0:print(1)\n",
    "elif n%4==1:print(8)\n",
    "elif n%4==2:print(4)\n",
    "elif n%4==3:print(2)\n",
    "else:print(6)"
   ]
  }
 ],
 "metadata": {
  "kernelspec": {
   "display_name": "Python 3",
   "language": "python",
   "name": "python3"
  },
  "language_info": {
   "codemirror_mode": {
    "name": "ipython",
    "version": 3
   },
   "file_extension": ".py",
   "mimetype": "text/x-python",
   "name": "python",
   "nbconvert_exporter": "python",
   "pygments_lexer": "ipython3",
   "version": "3.7.5"
  }
 },
 "nbformat": 4,
 "nbformat_minor": 2
}
