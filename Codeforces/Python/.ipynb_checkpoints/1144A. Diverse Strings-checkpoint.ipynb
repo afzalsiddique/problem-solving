{
 "cells": [
  {
   "cell_type": "code",
   "execution_count": 18,
   "metadata": {},
   "outputs": [
    {
     "name": "stdout",
     "output_type": "stream",
     "text": [
      "aa\n",
      "aa\n",
      "no\n"
     ]
    }
   ],
   "source": [
    "def tonum(letter):\n",
    "    if letter>='a' and letter<='z':\n",
    "        return ord(letter)-96\n",
    "    else:\n",
    "        return ord(letter)-64\n",
    "\n",
    "n = int(input())\n",
    "\n",
    "\n",
    "for i in range(n):\n",
    "    a=str(input())\n",
    "    li=[]\n",
    "    for letter in a:\n",
    "        li.append(tonum(letter))\n",
    "    li.sort()\n",
    "    flag=1\n",
    "    for i in range(len(a)):\n",
    "        if li[i]==li[0]+i:\n",
    "            continue\n",
    "        else:\n",
    "            flag=0\n",
    "            break\n",
    "\n",
    "    if flag==1:\n",
    "        print(\"YES\")\n",
    "    else:\n",
    "        print(\"NO\")"
   ]
  }
 ],
 "metadata": {
  "kernelspec": {
   "display_name": "Python 3",
   "language": "python",
   "name": "python3"
  },
  "language_info": {
   "codemirror_mode": {
    "name": "ipython",
    "version": 3
   },
   "file_extension": ".py",
   "mimetype": "text/x-python",
   "name": "python",
   "nbconvert_exporter": "python",
   "pygments_lexer": "ipython3",
   "version": "3.7.5"
  }
 },
 "nbformat": 4,
 "nbformat_minor": 2
}
