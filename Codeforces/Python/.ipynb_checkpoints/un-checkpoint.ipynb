{
 "cells": [
  {
   "cell_type": "code",
   "execution_count": null,
   "metadata": {},
   "outputs": [],
   "source": [
    "n,m=23,7\n",
    "count=0\n",
    "queue=[n]\n",
    "def bfs(i):\n",
    "    global count\n",
    "    if i in queue:\n",
    "        queue.remove(i)\n",
    "    if (i+1)!=m:\n",
    "        queue.append(i+1)\n",
    "    elif (i/2)!=m and (i%2==0):\n",
    "        queue.append(i/2)\n",
    "        count=count+1\n",
    "        \n",
    "while queue:\n",
    "    bfs(n)\n",
    "    bfs(24)\n",
    "print(queue)\n"
   ]
  },
  {
   "cell_type": "code",
   "execution_count": null,
   "metadata": {},
   "outputs": [],
   "source": [
    "n,m=23,7\n",
    "count=0\n",
    "while n!=m:\n",
    "    "
   ]
  },
  {
   "cell_type": "code",
   "execution_count": 3,
   "metadata": {},
   "outputs": [
    {
     "name": "stdout",
     "output_type": "stream",
     "text": [
      "23\n",
      "24\n",
      "12\n",
      "4\n"
     ]
    }
   ],
   "source": [
    "n,m = 7,23\n",
    "if n>=m:\n",
    "    print(n-m)\n",
    "else:\n",
    "    t=0\n",
    "    while m>n:\n",
    "        print(m)\n",
    "        if m%2==0:\n",
    "            m=m//2\n",
    "            t+=1\n",
    "        else:\n",
    "            m=m+1\n",
    "            t+=1\n",
    "    print(t+(n-m))"
   ]
  }
 ],
 "metadata": {
  "kernelspec": {
   "display_name": "Python 3",
   "language": "python",
   "name": "python3"
  },
  "language_info": {
   "codemirror_mode": {
    "name": "ipython",
    "version": 3
   },
   "file_extension": ".py",
   "mimetype": "text/x-python",
   "name": "python",
   "nbconvert_exporter": "python",
   "pygments_lexer": "ipython3",
   "version": "3.7.3"
  }
 },
 "nbformat": 4,
 "nbformat_minor": 2
}
