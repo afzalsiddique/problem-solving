{
 "cells": [
  {
   "cell_type": "code",
   "execution_count": 13,
   "metadata": {},
   "outputs": [
    {
     "name": "stdout",
     "output_type": "stream",
     "text": [
      "8\n",
      "2 2 3 3 5 5 6 6\n"
     ]
    }
   ],
   "source": [
    "def func(index,beauty,maxDiff):\n",
    "    count=0\n",
    "    for i in range(n-1,index,-1):\n",
    "#         print(beauty[i],beauty[index])\n",
    "        if beauty[i]-beauty[index]==maxDiff:\n",
    "            count+=1\n",
    "        else:\n",
    "            break\n",
    "    return count\n",
    "\n",
    "n=int(input())\n",
    "beauty=sorted(list(map(int,input().split())))\n",
    "\n",
    "maxDiff=max(beauty)-min(beauty)\n",
    "# print(maxDiff)\n",
    "\n",
    "sum=0\n",
    "for i in range(n):\n",
    "    sum+=func(i,beauty,maxDiff)\n",
    "print(maxDiff,sum)"
   ]
  }
 ],
 "metadata": {
  "kernelspec": {
   "display_name": "Python 3",
   "language": "python",
   "name": "python3"
  },
  "language_info": {
   "codemirror_mode": {
    "name": "ipython",
    "version": 3
   },
   "file_extension": ".py",
   "mimetype": "text/x-python",
   "name": "python",
   "nbconvert_exporter": "python",
   "pygments_lexer": "ipython3",
   "version": "3.7.5"
  }
 },
 "nbformat": 4,
 "nbformat_minor": 2
}
