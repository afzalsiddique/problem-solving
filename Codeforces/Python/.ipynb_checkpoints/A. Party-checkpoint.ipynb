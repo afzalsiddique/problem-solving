{
 "cells": [
  {
   "cell_type": "code",
   "execution_count": null,
   "metadata": {},
   "outputs": [],
   "source": [
    "###final\n",
    "n=int(input())\n",
    "p=[int(input()) for _ in range(n)]\n",
    "p.insert(0,-99)#so that index would start from 1\n",
    "result=-1\n",
    "for i in range(1,n+1):#indexing starts from 1\n",
    "    count=0\n",
    "    while i!=-1:\n",
    "        i=p[i]\n",
    "        count+=1\n",
    "        result=max(result,count)\n",
    "print(result)"
   ]
  },
  {
   "cell_type": "code",
   "execution_count": null,
   "metadata": {},
   "outputs": [],
   "source": [
    "li=list(map(int,input().split()))\n",
    "n=li[0]\n",
    "mat=[['.']*(n+1) for x in range(n+1)]\n",
    "for x in range(1,n+1):\n",
    "    if li[x]!=-1:\n",
    "        mat[x][li[x]]='s'\n",
    "        mat[li[x]][x]='j'\n",
    "\n",
    "print('  ',end='')\n",
    "for x in range(n+1):\n",
    "    print(x,end=' ')\n",
    "print()\n",
    "count=-1\n",
    "for x in mat:\n",
    "    count+=1\n",
    "    print(count,end=' ')\n",
    "    for y in x:\n",
    "        print(y,end=' ')\n",
    "    print()\n"
   ]
  },
  {
   "cell_type": "code",
   "execution_count": null,
   "metadata": {},
   "outputs": [],
   "source": [
    "n = 5\n",
    "p = [-100,-1,1,2,1,-1]\n",
    "result=0\n",
    "for i in range(1,n+1):\n",
    "    count=0\n",
    "    print('i:{:>3}   p[i]:{:>3}'.format(i,p[i]),end=' ')\n",
    "    while i>=1:\n",
    "        i=p[i]\n",
    "        print('{:>3}'.format(i),end=' ')\n",
    "        count+=1\n",
    "    print()\n",
    "    result=max(result,count)\n",
    "print(result)\n"
   ]
  },
  {
   "cell_type": "code",
   "execution_count": null,
   "metadata": {},
   "outputs": [],
   "source": [
    "n = 12\n",
    "p = [-100,-1,1,1,1,1,1,3,4,3,3,4,7]\n",
    "result=0\n",
    "for i in range(1,n+1):\n",
    "    count=0\n",
    "    print('i:{:>3}   p[i]:{:>3}'.format(i,p[i]),end=':  ')\n",
    "    while i!=-1:\n",
    "        i=p[i]\n",
    "        print('{:>3}'.format(i),end=' ')\n",
    "        count+=1\n",
    "    print()\n",
    "    result=max(result,count)\n",
    "print(result)\n"
   ]
  },
  {
   "cell_type": "code",
   "execution_count": null,
   "metadata": {},
   "outputs": [],
   "source": [
    "n=6\n",
    "mat=[[0]*n for x in range(n)]\n",
    "li=[]\n",
    "for x in range(6):\n",
    "    li.append(int(input()))\n",
    "    if li[x]!=-1:\n",
    "        mat[x][li[x]]='s'\n",
    "        mat[li[x]][x]='j'\n",
    "print(mat)"
   ]
  },
  {
   "cell_type": "code",
   "execution_count": null,
   "metadata": {},
   "outputs": [],
   "source": []
  },
  {
   "cell_type": "code",
   "execution_count": null,
   "metadata": {},
   "outputs": [],
   "source": [
    "n,m=3,4\n",
    "a=[[0]*m for i in range(n)]\n",
    "a[0][3]=9\n",
    "print(a)"
   ]
  }
 ],
 "metadata": {
  "kernelspec": {
   "display_name": "Python 3",
   "language": "python",
   "name": "python3"
  },
  "language_info": {
   "codemirror_mode": {
    "name": "ipython",
    "version": 3
   },
   "file_extension": ".py",
   "mimetype": "text/x-python",
   "name": "python",
   "nbconvert_exporter": "python",
   "pygments_lexer": "ipython3",
   "version": "3.7.3"
  }
 },
 "nbformat": 4,
 "nbformat_minor": 2
}
