{
 "cells": [
  {
   "cell_type": "code",
   "execution_count": 9,
   "metadata": {},
   "outputs": [
    {
     "name": "stdout",
     "output_type": "stream",
     "text": [
      "44 50 150\n",
      "Yes\n"
     ]
    }
   ],
   "source": [
    "a,b,c=list(map(int,input().split()))\n",
    "mymin,mymax=min(a,b),max(a,b)\n",
    "if c%a==0 or c%b==0:\n",
    "    print('Yes')\n",
    "else:\n",
    "    while c>=mymin:\n",
    "        if c%mymin==0:\n",
    "            print('Yes')\n",
    "            break\n",
    "        else:\n",
    "            c-=mymax\n",
    "    else:\n",
    "        print('No')"
   ]
  }
 ],
 "metadata": {
  "kernelspec": {
   "display_name": "Python 3",
   "language": "python",
   "name": "python3"
  },
  "language_info": {
   "codemirror_mode": {
    "name": "ipython",
    "version": 3
   },
   "file_extension": ".py",
   "mimetype": "text/x-python",
   "name": "python",
   "nbconvert_exporter": "python",
   "pygments_lexer": "ipython3",
   "version": "3.7.3"
  }
 },
 "nbformat": 4,
 "nbformat_minor": 2
}
