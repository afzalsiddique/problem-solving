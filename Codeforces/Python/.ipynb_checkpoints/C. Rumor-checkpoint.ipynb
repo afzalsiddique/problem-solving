{
 "cells": [
  {
   "cell_type": "code",
   "execution_count": 8,
   "metadata": {},
   "outputs": [
    {
     "ename": "IndentationError",
     "evalue": "expected an indented block (<ipython-input-8-3e2568e286cd>, line 19)",
     "output_type": "error",
     "traceback": [
      "\u001b[1;36m  File \u001b[1;32m\"<ipython-input-8-3e2568e286cd>\"\u001b[1;36m, line \u001b[1;32m19\u001b[0m\n\u001b[1;33m    for i in range(n):\u001b[0m\n\u001b[1;37m      ^\u001b[0m\n\u001b[1;31mIndentationError\u001b[0m\u001b[1;31m:\u001b[0m expected an indented block\n"
     ]
    }
   ],
   "source": [
    "##FINAL\n",
    "\n",
    "##this function calculates the minimum weight among all edges in a component\n",
    "def dfs(i):\n",
    "    value=cost[i]\n",
    "    stack=[i]\n",
    "    while stack:\n",
    "        popped=stack.pop()\n",
    "        vistied[popped]=True\n",
    "        for friend in adj_list[popped]:\n",
    "            if vistied[friend]==False:\n",
    "                stack.append(friend)\n",
    "                value=min(value,cost[friend])\n",
    "    return value\n",
    "\n",
    "def get():\n",
    "    return list(map(int, input().split()))\n",
    "\n",
    "n, m = get()\n",
    "cost = [0]+get()\n",
    "adj_list = [list() for _ in range(n+1)]\n",
    "for _ in range(1,m+1):\n",
    "    x, y = get()\n",
    "    adj_list[x].append(y)\n",
    "    adj_list[y].append(x)\n",
    " \n",
    "vistied = [False] * (n+1)\n",
    "ans = 0\n",
    "for i in range(1,n+1):\n",
    "    if vistied[i] == False:\n",
    "        ans += dfs(i)\n",
    "print(ans)"
   ]
  },
  {
   "cell_type": "code",
   "execution_count": 16,
   "metadata": {},
   "outputs": [
    {
     "name": "stdout",
     "output_type": "stream",
     "text": [
      "{1, 2, 3, 4}\n"
     ]
    }
   ],
   "source": [
    "def make_link(G,node1,node2):\n",
    "    if node1 not in G:\n",
    "        G[node1]= { }\n",
    "    (G[node1])[node2]= 1 \n",
    "    if node2 not in G:\n",
    "        G[node2]= {}\n",
    "    (G[node2])[node1]= 1 \n",
    "    return G\n",
    "\n",
    "connections = [('a','g'),('a','d'),('d','g'),('g','c')]\n",
    "G = {}\n",
    "for x,y in connections:make_link(G,x,y)\n",
    "\n",
    "print G"
   ]
  },
  {
   "cell_type": "code",
   "execution_count": 14,
   "metadata": {},
   "outputs": [
    {
     "name": "stdout",
     "output_type": "stream",
     "text": [
      "{1: True, 2: True, 3: True, 4: True, 5: True, 6: True, 7: True}\n"
     ]
    }
   ],
   "source": [
    "graph = {1: set([2, 3]),\n",
    "         2: set([3, 4, 5]),\n",
    "         3: set([1, 6]),\n",
    "         4: set([2]),\n",
    "         5: set([2, 6]),\n",
    "         6: set([3, 5]),\n",
    "         7: set([])\n",
    "        }\n",
    "\n",
    "d2={}\n",
    "for key in graph:\n",
    "    d2[key]=False\n",
    "    \n",
    "    \n",
    "def dfs(graph, start, visited=None):\n",
    "    if visited is None:\n",
    "        visited = set()\n",
    "    visited.add(start)\n",
    "    done[start]=True\n",
    "    \n",
    "    for next in graph[start] - visited:\n",
    "        dfs(graph, next, visited)\n",
    "    return visited\n",
    "\n",
    "\n",
    "for key in graph:\n",
    "    cur_min=9999\n",
    "    dfs(graph,key)\n",
    "print(done)"
   ]
  },
  {
   "cell_type": "code",
   "execution_count": 16,
   "metadata": {},
   "outputs": [
    {
     "ename": "TypeError",
     "evalue": "'int' object is not iterable",
     "output_type": "error",
     "traceback": [
      "\u001b[1;31m---------------------------------------------------------------------------\u001b[0m",
      "\u001b[1;31mTypeError\u001b[0m                                 Traceback (most recent call last)",
      "\u001b[1;32m<ipython-input-16-0dcebb98cb84>\u001b[0m in \u001b[0;36m<module>\u001b[1;34m\u001b[0m\n\u001b[1;32m----> 1\u001b[1;33m \u001b[0mprint\u001b[0m\u001b[1;33m(\u001b[0m\u001b[0mmin\u001b[0m\u001b[1;33m(\u001b[0m\u001b[1;36m8\u001b[0m\u001b[1;33m)\u001b[0m\u001b[1;33m)\u001b[0m\u001b[1;33m\u001b[0m\u001b[1;33m\u001b[0m\u001b[0m\n\u001b[0m",
      "\u001b[1;31mTypeError\u001b[0m: 'int' object is not iterable"
     ]
    }
   ],
   "source": []
  },
  {
   "cell_type": "code",
   "execution_count": 15,
   "metadata": {},
   "outputs": [
    {
     "name": "stdout",
     "output_type": "stream",
     "text": [
      "{1: False, 2: False, 3: False, 4: False, 5: False, 6: False, 7: False}\n"
     ]
    }
   ],
   "source": []
  }
 ],
 "metadata": {
  "kernelspec": {
   "display_name": "Python 3",
   "language": "python",
   "name": "python3"
  },
  "language_info": {
   "codemirror_mode": {
    "name": "ipython",
    "version": 3
   },
   "file_extension": ".py",
   "mimetype": "text/x-python",
   "name": "python",
   "nbconvert_exporter": "python",
   "pygments_lexer": "ipython3",
   "version": "3.7.3"
  }
 },
 "nbformat": 4,
 "nbformat_minor": 2
}
