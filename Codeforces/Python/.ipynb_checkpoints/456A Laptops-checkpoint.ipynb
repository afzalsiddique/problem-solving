{
 "cells": [
  {
   "cell_type": "code",
   "execution_count": 9,
   "metadata": {},
   "outputs": [
    {
     "name": "stdout",
     "output_type": "stream",
     "text": [
      "2\n",
      "1 2\n",
      "2 1\n"
     ]
    }
   ],
   "source": [
    "n=int(input())\n",
    "li=[]\n",
    "for i in range(n):\n",
    "    li.append([int(x) for x in input().split()])"
   ]
  },
  {
   "cell_type": "code",
   "execution_count": 12,
   "metadata": {},
   "outputs": [
    {
     "name": "stdout",
     "output_type": "stream",
     "text": [
      "Happy Alex\n"
     ]
    }
   ],
   "source": [
    "li.sort()\n",
    "price=[x[1] for x in li]\n",
    "if price==sorted(price):\n",
    "    print('Poor Alex')\n",
    "else:\n",
    "    print('Happy Alex')"
   ]
  }
 ],
 "metadata": {
  "kernelspec": {
   "display_name": "Python 3",
   "language": "python",
   "name": "python3"
  },
  "language_info": {
   "codemirror_mode": {
    "name": "ipython",
    "version": 3
   },
   "file_extension": ".py",
   "mimetype": "text/x-python",
   "name": "python",
   "nbconvert_exporter": "python",
   "pygments_lexer": "ipython3",
   "version": "3.7.5"
  }
 },
 "nbformat": 4,
 "nbformat_minor": 2
}
