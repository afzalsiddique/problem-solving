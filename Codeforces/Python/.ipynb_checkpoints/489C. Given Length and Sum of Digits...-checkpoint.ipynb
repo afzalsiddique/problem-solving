{
 "cells": [
  {
   "cell_type": "code",
   "execution_count": null,
   "metadata": {},
   "outputs": [],
   "source": [
    "l,s=map(int,input().split())\n",
    "if l==1 and s==0:\n",
    "    print(0,0)\n",
    "elif s==0 or s>9*l:\n",
    "    print(-1,-1)\n",
    "else:\n",
    "    mystr=''\n",
    "    for x in range(l):\n",
    "        if s>=9 and s!=0:\n",
    "            mystr = mystr +'9'\n",
    "            s-=9\n",
    "        elif s<9 and s!=0:\n",
    "            mystr = mystr + str(s)\n",
    "            s=0\n",
    "        else:\n",
    "            mystr = mystr + '0'\n",
    "\n",
    "\n",
    "\n",
    "    rev = mystr[::-1]\n",
    "    pos = mystr.find('0')\n",
    "    if(pos==-1):\n",
    "        print(rev,end=' ')\n",
    "    else:\n",
    "        pos = l-pos\n",
    "        rev = '1' + rev[1:pos] + str(int(rev[pos])-1) + rev[pos+1:]\n",
    "        print(rev,end=' ')\n",
    "\n",
    "\n",
    "    print(mystr)"
   ]
  }
 ],
 "metadata": {
  "kernelspec": {
   "display_name": "Python 3",
   "language": "python",
   "name": "python3"
  },
  "language_info": {
   "codemirror_mode": {
    "name": "ipython",
    "version": 3
   },
   "file_extension": ".py",
   "mimetype": "text/x-python",
   "name": "python",
   "nbconvert_exporter": "python",
   "pygments_lexer": "ipython3",
   "version": "3.7.3"
  }
 },
 "nbformat": 4,
 "nbformat_minor": 2
}
