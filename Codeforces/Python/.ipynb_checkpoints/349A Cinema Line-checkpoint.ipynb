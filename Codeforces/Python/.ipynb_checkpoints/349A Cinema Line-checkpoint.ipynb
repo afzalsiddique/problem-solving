{
 "cells": [
  {
   "cell_type": "code",
   "execution_count": null,
   "metadata": {},
   "outputs": [],
   "source": [
    "n25,n50,n100=0,0,0\n",
    "n=int(input())\n",
    "notes=[int(x) for x in input().split()]\n",
    "ans='YES'\n",
    "for note in notes:\n",
    "    if note==25:\n",
    "        n25+=1\n",
    "    elif note==50:\n",
    "        n50+=1\n",
    "        n25-=1\n",
    "    elif note==100:\n",
    "        n100+=1\n",
    "        if n50>0:\n",
    "            n50-=1\n",
    "            n25-=1\n",
    "        else:\n",
    "            n25-=3\n",
    "    if n25<0 or n50<0 or n100<0:\n",
    "        ans='NO'\n",
    "        break\n",
    "print(ans)"
   ]
  }
 ],
 "metadata": {
  "kernelspec": {
   "display_name": "Python 3",
   "language": "python",
   "name": "python3"
  },
  "language_info": {
   "codemirror_mode": {
    "name": "ipython",
    "version": 3
   },
   "file_extension": ".py",
   "mimetype": "text/x-python",
   "name": "python",
   "nbconvert_exporter": "python",
   "pygments_lexer": "ipython3",
   "version": "3.7.5"
  }
 },
 "nbformat": 4,
 "nbformat_minor": 2
}
