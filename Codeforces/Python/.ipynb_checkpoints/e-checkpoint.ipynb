{
 "cells": [
  {
   "cell_type": "code",
   "execution_count": 5,
   "metadata": {
    "scrolled": true
   },
   "outputs": [
    {
     "name": "stdout",
     "output_type": "stream",
     "text": [
      "12345678 87654321\n",
      "43043751 1000000000 53798715\n",
      "1 998433181\n"
     ]
    }
   ],
   "source": [
    "p,q=map(int,input().split())\n",
    "Yball,Gball,Bball = map(int,input().split()) #balls needed\n",
    "ycrys=2*Yball+Gball #crystals needed\n",
    "bcrys=Gball+3*Bball\n",
    "\n",
    "if ycrys>p:\n",
    "    a=ycrys-p\n",
    "if bcrys>q:\n",
    "    b=bcrys-q\n",
    "print(a+b)"
   ]
  },
  {
   "cell_type": "code",
   "execution_count": null,
   "metadata": {},
   "outputs": [],
   "source": [
    "12345678 87654321\n",
    "43043751 1000000000 53798715"
   ]
  }
 ],
 "metadata": {
  "kernelspec": {
   "display_name": "Python 3",
   "language": "python",
   "name": "python3"
  },
  "language_info": {
   "codemirror_mode": {
    "name": "ipython",
    "version": 3
   },
   "file_extension": ".py",
   "mimetype": "text/x-python",
   "name": "python",
   "nbconvert_exporter": "python",
   "pygments_lexer": "ipython3",
   "version": "3.7.3"
  }
 },
 "nbformat": 4,
 "nbformat_minor": 2
}
