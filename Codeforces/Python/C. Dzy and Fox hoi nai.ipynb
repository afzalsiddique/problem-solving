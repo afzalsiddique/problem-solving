{
 "cells": [
  {
   "cell_type": "code",
   "execution_count": 10,
   "metadata": {},
   "outputs": [
    {
     "name": "stdout",
     "output_type": "stream",
     "text": [
      "2\n",
      "5\n",
      "1 5 3 2 4\n",
      "12\n",
      "5\n",
      "1 7 3 2 4\n",
      "14\n"
     ]
    }
   ],
   "source": [
    "t=int(input())\n",
    "for no_of_cases in range(t):\n",
    "    n=int(input())\n",
    "    arr = list(map(int, input().split()))\n",
    "    result=0\n",
    "    for x in range(n):\n",
    "        temp=0\n",
    "        for i in range(0,n,2):\n",
    "            temp+=arr[i]\n",
    "        result=max(result,temp)\n",
    "        #print(temp)\n",
    "        popped_item=arr.pop(0)\n",
    "        arr.append(popped_item)\n",
    "    print(result)\n",
    "    "
   ]
  },
  {
   "cell_type": "code",
   "execution_count": 3,
   "metadata": {},
   "outputs": [
    {
     "name": "stdout",
     "output_type": "stream",
     "text": [
      "[2, 3, 1]\n"
     ]
    }
   ],
   "source": [
    "l=[1,2,3]\n",
    "s=l.pop(0)\n",
    "l.append(s)\n",
    "print(l)"
   ]
  },
  {
   "cell_type": "code",
   "execution_count": null,
   "metadata": {},
   "outputs": [],
   "source": []
  }
 ],
 "metadata": {
  "kernelspec": {
   "display_name": "Python 3",
   "language": "python",
   "name": "python3"
  },
  "language_info": {
   "codemirror_mode": {
    "name": "ipython",
    "version": 3
   },
   "file_extension": ".py",
   "mimetype": "text/x-python",
   "name": "python",
   "nbconvert_exporter": "python",
   "pygments_lexer": "ipython3",
   "version": "3.7.3"
  }
 },
 "nbformat": 4,
 "nbformat_minor": 2
}
