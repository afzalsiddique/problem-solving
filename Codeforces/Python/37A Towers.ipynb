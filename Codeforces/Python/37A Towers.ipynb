{
 "cells": [
  {
   "cell_type": "code",
   "execution_count": 8,
   "metadata": {},
   "outputs": [
    {
     "name": "stdout",
     "output_type": "stream",
     "text": [
      "4\n",
      "6 5 6 7\n"
     ]
    }
   ],
   "source": [
    "n=int(input())\n",
    "length=[int(x) for x in input().split()]\n",
    "\n",
    "myset=set(length)\n",
    "\n",
    "occurence=[]\n",
    "for item in myset:\n",
    "    occurence.append(len([x for x in length if x!=item]))\n",
    "occurence=[n-x for x in occurence]\n",
    "print(max(occurence), len(myset))"
   ]
  }
 ],
 "metadata": {
  "kernelspec": {
   "display_name": "Python 3",
   "language": "python",
   "name": "python3"
  },
  "language_info": {
   "codemirror_mode": {
    "name": "ipython",
    "version": 3
   },
   "file_extension": ".py",
   "mimetype": "text/x-python",
   "name": "python",
   "nbconvert_exporter": "python",
   "pygments_lexer": "ipython3",
   "version": "3.7.5"
  }
 },
 "nbformat": 4,
 "nbformat_minor": 2
}
