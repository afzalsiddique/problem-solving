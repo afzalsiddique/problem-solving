{
 "cells": [
  {
   "cell_type": "code",
   "execution_count": 6,
   "metadata": {},
   "outputs": [
    {
     "name": "stdout",
     "output_type": "stream",
     "text": [
      "2\n"
     ]
    }
   ],
   "source": [
    "n=int(input())"
   ]
  },
  {
   "cell_type": "code",
   "execution_count": 23,
   "metadata": {},
   "outputs": [
    {
     "name": "stdout",
     "output_type": "stream",
     "text": [
      "[4, 2, 0, 2, 4]\n"
     ]
    }
   ],
   "source": [
    "space=[i for i in range(n*2,-1,-2)]\n",
    "space=space[:]+[i for i in range(2,n*2+1,2)]\n",
    "print(space)"
   ]
  },
  {
   "cell_type": "code",
   "execution_count": 21,
   "metadata": {
    "scrolled": true
   },
   "outputs": [
    {
     "name": "stdout",
     "output_type": "stream",
     "text": [
      "['0', '0 1 0 ', '0 1 2 1 0 ', '0 1 0 ', '0']\n"
     ]
    }
   ],
   "source": [
    "li=['0']\n",
    "for i in range(n):\n",
    "    temp=''\n",
    "    for j in range(i+1):\n",
    "        temp=temp+str(j)+' '\n",
    "    for j in range(i+1,-1,-1):\n",
    "        temp=temp+str(j)+' '\n",
    "    li.append(temp)\n",
    "li=li+li[n-1::-1]\n",
    "# li.append('0')\n",
    "print(li)"
   ]
  },
  {
   "cell_type": "code",
   "execution_count": 22,
   "metadata": {},
   "outputs": [
    {
     "name": "stdout",
     "output_type": "stream",
     "text": [
      "    0\n",
      "  0 1 0\n",
      "0 1 2 1 0\n",
      "  0 1 0\n",
      "    0\n"
     ]
    }
   ],
   "source": [
    "for row in range(len(space)):\n",
    "    for col in range(space[row]):\n",
    "        print(' ',end='')\n",
    "    func(li[row])\n",
    "    print()"
   ]
  },
  {
   "cell_type": "code",
   "execution_count": 15,
   "metadata": {},
   "outputs": [],
   "source": [
    "def func(string):\n",
    "    if string[-1]==' ':\n",
    "        print(string[:len(string)-1],end='')\n",
    "    else:\n",
    "        print(string,end='')"
   ]
  },
  {
   "cell_type": "code",
   "execution_count": 14,
   "metadata": {
    "scrolled": true
   },
   "outputs": [
    {
     "name": "stdout",
     "output_type": "stream",
     "text": [
      "qe"
     ]
    }
   ],
   "source": [
    "func('qe')"
   ]
  }
 ],
 "metadata": {
  "kernelspec": {
   "display_name": "Python 3",
   "language": "python",
   "name": "python3"
  },
  "language_info": {
   "codemirror_mode": {
    "name": "ipython",
    "version": 3
   },
   "file_extension": ".py",
   "mimetype": "text/x-python",
   "name": "python",
   "nbconvert_exporter": "python",
   "pygments_lexer": "ipython3",
   "version": "3.7.5"
  }
 },
 "nbformat": 4,
 "nbformat_minor": 2
}
