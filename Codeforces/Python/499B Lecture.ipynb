{
 "cells": [
  {
   "cell_type": "code",
   "execution_count": 1,
   "metadata": {},
   "outputs": [
    {
     "name": "stdout",
     "output_type": "stream",
     "text": [
      "4 3\n"
     ]
    }
   ],
   "source": [
    "n,m=list(map(int,input().split()))\n",
    "\n",
    "first,second=[],[]\n",
    "for i in range(m):\n",
    "    a,b=input().split()\n",
    "    first.append(a)\n",
    "    second.append(b)\n",
    "    \n",
    "lecture=input().split()\n",
    "    \n",
    "firstlen,secondlen=[],[]\n",
    "for i in range(m):\n",
    "    firstlen.append(len(first[i]))\n",
    "    secondlen.append(len(second[i]))\n",
    "    \n",
    "for word in lecture:\n",
    "    temp=first.index(word)\n",
    "    if firstlen[temp]<=secondlen[temp]:\n",
    "        print(first[temp], end=' ')\n",
    "    else:\n",
    "        print(second[temp], end=' ')"
   ]
  }
 ],
 "metadata": {
  "kernelspec": {
   "display_name": "Python 3",
   "language": "python",
   "name": "python3"
  },
  "language_info": {
   "codemirror_mode": {
    "name": "ipython",
    "version": 3
   },
   "file_extension": ".py",
   "mimetype": "text/x-python",
   "name": "python",
   "nbconvert_exporter": "python",
   "pygments_lexer": "ipython3",
   "version": "3.7.5"
  }
 },
 "nbformat": 4,
 "nbformat_minor": 2
}
