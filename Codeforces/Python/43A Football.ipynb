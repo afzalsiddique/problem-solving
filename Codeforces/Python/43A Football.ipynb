{
 "cells": [
  {
   "cell_type": "code",
   "execution_count": null,
   "metadata": {},
   "outputs": [],
   "source": [
    "n=int(input())\n",
    "teamlist=[]\n",
    "for i in range(n):\n",
    "    teamlist.append(input())\n",
    "    \n",
    "teamset=set(teamlist)\n",
    "if len(teamset)==1:\n",
    "    print(teamlist[0])\n",
    "else:\n",
    "    team1,team2=[team for team in set(teamlist)]\n",
    "    count1,count2=0,0\n",
    "    for team in teamlist:\n",
    "        if team==team1:\n",
    "            count1+=1\n",
    "        else:\n",
    "            count2+=1\n",
    "    if count1>count2:\n",
    "        print(team1)\n",
    "    else:\n",
    "        print(team2)"
   ]
  },
  {
   "cell_type": "code",
   "execution_count": null,
   "metadata": {},
   "outputs": [],
   "source": []
  },
  {
   "cell_type": "code",
   "execution_count": 13,
   "metadata": {},
   "outputs": [
    {
     "name": "stdout",
     "output_type": "stream",
     "text": [
      "200 30\n"
     ]
    }
   ],
   "source": [
    "s=set([200,30])\n",
    "team1,team2=[x for x in s]\n",
    "print(team1,team2)"
   ]
  }
 ],
 "metadata": {
  "kernelspec": {
   "display_name": "Python 3",
   "language": "python",
   "name": "python3"
  },
  "language_info": {
   "codemirror_mode": {
    "name": "ipython",
    "version": 3
   },
   "file_extension": ".py",
   "mimetype": "text/x-python",
   "name": "python",
   "nbconvert_exporter": "python",
   "pygments_lexer": "ipython3",
   "version": "3.7.5"
  }
 },
 "nbformat": 4,
 "nbformat_minor": 2
}
