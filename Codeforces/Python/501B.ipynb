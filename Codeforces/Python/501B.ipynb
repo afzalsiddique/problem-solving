{
 "cells": [
  {
   "cell_type": "code",
   "execution_count": null,
   "metadata": {},
   "outputs": [],
   "source": [
    "Misha ILoveCodeforces\n",
    "Vasya Petrov\n",
    "Petrov VasyaPetrov123\n",
    "ILoveCodeforces MikeMirzayanov\n",
    "Petya Ivanov"
   ]
  },
  {
   "cell_type": "code",
   "execution_count": 33,
   "metadata": {
    "tags": []
   },
   "outputs": [
    {
     "output_type": "stream",
     "name": "stdout",
     "text": "adike\nMisha ILoveCodeforces\noldNames: ['Misha']\nnewNames: ['ILoveCodeforces']\n\n\nadike\nVasya Petrov\noldNames: ['Misha', 'Vasya']\nnewNames: ['ILoveCodeforces', 'Petrov']\n\n\nei khane\nPetrov VasyaPetrov123\noldNames: ['Misha', 'Vasya']\nnewNames: ['ILoveCodeforces', 'VasyaPetrov123']\n\n\nei khane\nILoveCodeforces MikeMirzayanov\noldNames: ['Misha', 'Vasya']\nnewNames: ['MikeMirzayanov', 'VasyaPetrov123']\n\n\nadike\nPetya Ivanov\noldNames: ['Misha', 'Vasya', 'Petya']\nnewNames: ['MikeMirzayanov', 'VasyaPetrov123', 'Ivanov']\n\n\n3\nMisha MikeMirzayanov\nVasya VasyaPetrov123\nPetya Ivanov\n"
    }
   ],
   "source": [
    "# inputList = [\n",
    "#     ['Misha', 'ILoveCodeforces'],['Vasya','Petrov'],['Petrov','VasyaPetrov123'],['ILoveCodeforces','MikeMirzayanov'],['Petya','Ivanov']\n",
    "# ]\n",
    "\n",
    "inputList = []\n",
    "n = int(input())\n",
    "for i in range(n):\n",
    "    tempList = list(input().split())\n",
    "    inputList.append(tempList)\n",
    "oldNames = []\n",
    "newNames = []\n",
    "\n",
    "for tempList in inputList:\n",
    "    oldName, newName = tempList[0],tempList[1]\n",
    "    if oldName not in newNames:\n",
    "        oldNames.append(oldName)\n",
    "        newNames.append(newName)\n",
    "        # print('adike')\n",
    "        # print(oldName,newName)\n",
    "        # print('oldNames:',oldNames)\n",
    "        # print('newNames:',newNames)\n",
    "        # print('\\n')\n",
    "    else:\n",
    "        idx = newNames.index(oldName)\n",
    "        newNames[idx] = newName\n",
    "        # print('ei khane')\n",
    "        # print(oldName,newName)\n",
    "        # print('oldNames:',oldNames)\n",
    "        # print('newNames:',newNames)\n",
    "        # print('\\n')\n",
    "\n",
    "\n",
    "print(len(oldNames))\n",
    "for oldName,newName in zip(oldNames,newNames):\n",
    "    print(oldName,newName)"
   ]
  },
  {
   "cell_type": "code",
   "execution_count": 22,
   "metadata": {
    "tags": []
   },
   "outputs": [
    {
     "output_type": "stream",
     "name": "stdout",
     "text": "1 11\n2 12\n3 13\n"
    }
   ],
   "source": [
    "a = [1,2,3]\n",
    "b = [11,12,13]\n",
    "for x1,x2 in zip(a,b):\n",
    "    print(x1,x2)"
   ]
  },
  {
   "cell_type": "code",
   "execution_count": 37,
   "metadata": {
    "tags": []
   },
   "outputs": [
    {
     "output_type": "stream",
     "name": "stdout",
     "text": "[]\n"
    }
   ],
   "source": [
    "print(list(enum))"
   ]
  }
 ],
 "metadata": {
  "language_info": {
   "codemirror_mode": {
    "name": "ipython",
    "version": 3
   },
   "file_extension": ".py",
   "mimetype": "text/x-python",
   "name": "python",
   "nbconvert_exporter": "python",
   "pygments_lexer": "ipython3",
   "version": "3.8.2-final"
  },
  "orig_nbformat": 2,
  "kernelspec": {
   "name": "python38264bitf8e44e8609aa4132ba8c35289133c624",
   "display_name": "Python 3.8.2 64-bit"
  }
 },
 "nbformat": 4,
 "nbformat_minor": 2
}