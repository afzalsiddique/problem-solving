{
 "cells": [
  {
   "cell_type": "code",
   "execution_count": 5,
   "metadata": {},
   "outputs": [
    {
     "name": "stdout",
     "output_type": "stream",
     "text": [
      "0 2 0\n",
      "0\n"
     ]
    }
   ],
   "source": [
    "l,r,a=list(map(int,input().split()))\n",
    "if l<r:\n",
    "    mymin=l\n",
    "    mymax=r\n",
    "else:\n",
    "    mymin=r\n",
    "    mymax=l\n",
    "s=mymax-mymin\n",
    "if a>=s:\n",
    "    print(mymax*2+((a-s)//2)*2)\n",
    "else:\n",
    "    print((mymin+a)*2)"
   ]
  }
 ],
 "metadata": {
  "kernelspec": {
   "display_name": "Python 3",
   "language": "python",
   "name": "python3"
  },
  "language_info": {
   "codemirror_mode": {
    "name": "ipython",
    "version": 3
   },
   "file_extension": ".py",
   "mimetype": "text/x-python",
   "name": "python",
   "nbconvert_exporter": "python",
   "pygments_lexer": "ipython3",
   "version": "3.7.3"
  }
 },
 "nbformat": 4,
 "nbformat_minor": 2
}
