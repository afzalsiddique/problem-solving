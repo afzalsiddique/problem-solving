{
 "cells": [
  {
   "cell_type": "code",
   "execution_count": 15,
   "metadata": {},
   "outputs": [
    {
     "name": "stdout",
     "output_type": "stream",
     "text": [
      "4\n",
      "-5 -2 2 7\n"
     ]
    }
   ],
   "source": [
    "n=int(input())\n",
    "pos=[int(x) for x in input().split()]"
   ]
  },
  {
   "cell_type": "code",
   "execution_count": 16,
   "metadata": {},
   "outputs": [],
   "source": [
    "def dist(a,b):\n",
    "    if a-b<0:\n",
    "        return -(a-b)\n",
    "    else:\n",
    "        return a-b"
   ]
  },
  {
   "cell_type": "code",
   "execution_count": 17,
   "metadata": {},
   "outputs": [],
   "source": [
    "def minMaxDist(index,pos):\n",
    "    if index==0:\n",
    "        minn=dist(pos[index],pos[index+1])\n",
    "    elif index==n-1:\n",
    "        minn=dist(pos[index-1],pos[index])\n",
    "    else:\n",
    "        minn=min(dist(pos[index],pos[index+1]),dist(pos[index],pos[index-1]))\n",
    "        \n",
    "    if index==0 or index==n-1:\n",
    "        maxx=dist(pos[0],pos[n-1])\n",
    "    else:\n",
    "        maxx=max(dist(pos[index],pos[0]),dist(pos[index],pos[n-1]))\n",
    "    return minn,maxx"
   ]
  },
  {
   "cell_type": "code",
   "execution_count": 18,
   "metadata": {},
   "outputs": [
    {
     "name": "stdout",
     "output_type": "stream",
     "text": [
      "3 12\n",
      "3 9\n",
      "4 7\n",
      "5 12\n"
     ]
    }
   ],
   "source": [
    "for i in range(n):\n",
    "    minn,maxx=minMaxDist(i,pos)\n",
    "    print(minn,maxx)"
   ]
  }
 ],
 "metadata": {
  "kernelspec": {
   "display_name": "Python 3",
   "language": "python",
   "name": "python3"
  },
  "language_info": {
   "codemirror_mode": {
    "name": "ipython",
    "version": 3
   },
   "file_extension": ".py",
   "mimetype": "text/x-python",
   "name": "python",
   "nbconvert_exporter": "python",
   "pygments_lexer": "ipython3",
   "version": "3.7.5"
  }
 },
 "nbformat": 4,
 "nbformat_minor": 2
}
