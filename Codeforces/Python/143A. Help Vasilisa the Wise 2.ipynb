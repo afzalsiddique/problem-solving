{
 "cells": [
  {
   "cell_type": "code",
   "execution_count": 14,
   "metadata": {},
   "outputs": [],
   "source": [
    "def unique(a1,a2,b1,b2):\n",
    "    if a1!=a2 and a1!=b1 and a1!=b2 and a2!=b1 and a2!=b2 and b1!=b2:\n",
    "        return True\n",
    "    else:\n",
    "        return False\n",
    "    \n"
   ]
  },
  {
   "cell_type": "code",
   "execution_count": 12,
   "metadata": {},
   "outputs": [
    {
     "name": "stdout",
     "output_type": "stream",
     "text": [
      "10 10\n",
      "10 10\n",
      "10 10\n"
     ]
    }
   ],
   "source": [
    "r1,r2=list(map(int,input().split()))\n",
    "c1,c2=list(map(int,input().split()))\n",
    "d1,d2=list(map(int,input().split()))"
   ]
  },
  {
   "cell_type": "code",
   "execution_count": 18,
   "metadata": {},
   "outputs": [
    {
     "name": "stdout",
     "output_type": "stream",
     "text": [
      "-1\n"
     ]
    }
   ],
   "source": [
    "flag=1\n",
    "for a1 in range(1,10):\n",
    "    \n",
    "    for a2 in range(1,10):\n",
    "\n",
    "        for b1 in range(1,10):\n",
    "\n",
    "            for b2 in range(1,10):\n",
    "\n",
    "                    if a1+a2==r1 and b1+b2==r2 and a1+b1==c1 and a2+b2==c2 and a1+b2==d1 and a2+b1==d2 and unique(a1,a2,b1,b2):\n",
    "                        print(a1,a2)\n",
    "                        print(b1,b2)\n",
    "                        flag=0\n",
    "                        \n",
    "else:\n",
    "    print(-1)"
   ]
  },
  {
   "cell_type": "code",
   "execution_count": 19,
   "metadata": {},
   "outputs": [
    {
     "data": {
      "text/plain": [
       "False"
      ]
     },
     "execution_count": 19,
     "metadata": {},
     "output_type": "execute_result"
    }
   ],
   "source": [
    "unique(9,3,9,3)"
   ]
  },
  {
   "cell_type": "code",
   "execution_count": null,
   "metadata": {},
   "outputs": [],
   "source": [
    "def unique(a1,a2,b1,b2):\n",
    "    if a1!=a2 and a1!=b1 and a1!=b2 and a2!=b1 and a2!=b2 and b1!=b2:\n",
    "        return True\n",
    "    else:\n",
    "        return False\n",
    "        \n",
    "r1,r2=list(map(int,input().split()))\n",
    "c1,c2=list(map(int,input().split()))\n",
    "d1,d2=list(map(int,input().split()))\n",
    "\n",
    "flag=False\n",
    "for a1 in range(1,10):\n",
    "    for a2 in range(1,10):\n",
    "        for b1 in range(1,10):\n",
    "            for b2 in range(1,10):\n",
    "                if a1+a2==r1 and b1+b2==r2 and a1+b1==c1 and a2+b2==c2 and a1+b2==d1 and a2+b1==d2 and unique(a1,a2,b1,b2):\n",
    "                    flag=True\n",
    "                        \n",
    "if flag:\n",
    "    print(a1,a2)\n",
    "    print(b1,b2)\n",
    "else:\n",
    "    print(-1)"
   ]
  },
  {
   "cell_type": "code",
   "execution_count": null,
   "metadata": {},
   "outputs": [],
   "source": [
    "def unique(a1,a2,b1,b2):\n",
    "    if a1!=a2 and a1!=b1 and a1!=b2 and a2!=b1 and a2!=b2 and b1!=b2:\n",
    "        return True\n",
    "    else:\n",
    "        return False\n",
    "        \n",
    "r1,r2=list(map(int,input().split()))\n",
    "c1,c2=list(map(int,input().split()))\n",
    "d1,d2=list(map(int,input().split()))\n",
    " \n",
    "flag=1\n",
    "a1,a2,b1,b2=0,0,0,0\n",
    "for a1 in range(1,10):\n",
    "    if flag==0:\n",
    "        break\n",
    "    \n",
    "    for a2 in range(1,10):\n",
    "        if flag==0:\n",
    "            break\n",
    "\n",
    "        for b1 in range(1,10):\n",
    "            if flag==0:\n",
    "                break\n",
    "\n",
    "            for b2 in range(1,10):\n",
    "                if flag==0:\n",
    "                    break\n",
    "\n",
    "                if a1+a2==r1 and b1+b2==r2 and a1+b1==c1 and a2+b2==c2 and a1+b2==d1 and a2+b1==d2 and unique(a1,a2,b1,b2):\n",
    "                    flag=0\n",
    "                    break\n",
    "if flag==0:\n",
    "    print(a1,a2)\n",
    "    print(b1,b2)\n",
    "else:\n",
    "    print(-1)"
   ]
  },
  {
   "cell_type": "code",
   "execution_count": null,
   "metadata": {},
   "outputs": [],
   "source": [
    "def unique(a1,a2,b1,b2):\n",
    "    if a1!=a2 and a1!=b1 and a1!=b2 and a2!=b1 and a2!=b2 and b1!=b2:\n",
    "        return True\n",
    "    else:\n",
    "        return False\n",
    "        \n",
    "r1,r2=list(map(int,input().split()))\n",
    "c1,c2=list(map(int,input().split()))\n",
    "d1,d2=list(map(int,input().split()))\n",
    "\n",
    "flag=False\n",
    "a1,a2,b1,b2=0,0,0,0\n",
    "for a1 in range(1,10):\n",
    "    if flag:\n",
    "        break\n",
    "    a2=r1-a1\n",
    "    for b1 in range(1,10):\n",
    "        if flag:\n",
    "            break\n",
    "        b2=r2-b1\n",
    "        if a1+b1==c1 and a2+b2==c2 and a1+b2==d1 and a2+b1==d2 and unique(a1,a2,b1,b2):\n",
    "            flag=True\n",
    "            break\n",
    "                        \n",
    "if flag:\n",
    "    print(a1,a2)\n",
    "    print(b1,b2)\n",
    "else:\n",
    "    print(-1)"
   ]
  },
  {
   "cell_type": "code",
   "execution_count": null,
   "metadata": {},
   "outputs": [],
   "source": [
    "def unique(a1,a2,b1,b2):\n",
    "    if a1!=a2 and a1!=b1 and a1!=b2 and a2!=b1 and a2!=b2 and b1!=b2:\n",
    "        return True\n",
    "    else:\n",
    "        return False\n",
    "        \n",
    "r1,r2=list(map(int,input().split()))\n",
    "c1,c2=list(map(int,input().split()))\n",
    "d1,d2=list(map(int,input().split()))\n",
    " \n",
    "flag=1\n",
    "for a1 in range(1,10):\n",
    "    \n",
    "    for a2 in range(1,10):\n",
    "\n",
    "        for b1 in range(1,10):\n",
    "\n",
    "            for b2 in range(1,10):\n",
    "\n",
    "                if a1+a2==r1 and b1+b2==r2 and a1+b1==c1 and a2+b2==c2 and a1+b2==d1 and a2+b1==d2 and unique(a1,a2,b1,b2):\n",
    "                    print(a1,a2)\n",
    "                    print(b1,b2)\n",
    "                    \n",
    "else:\n",
    "    print(-1)"
   ]
  }
 ],
 "metadata": {
  "kernelspec": {
   "display_name": "Python 3",
   "language": "python",
   "name": "python3"
  },
  "language_info": {
   "codemirror_mode": {
    "name": "ipython",
    "version": 3
   },
   "file_extension": ".py",
   "mimetype": "text/x-python",
   "name": "python",
   "nbconvert_exporter": "python",
   "pygments_lexer": "ipython3",
   "version": "3.7.3"
  }
 },
 "nbformat": 4,
 "nbformat_minor": 2
}
