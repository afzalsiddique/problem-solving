{
 "cells": [
  {
   "cell_type": "code",
   "execution_count": null,
   "metadata": {},
   "outputs": [],
   "source": [
    "n, m = map(int, input().split())\n",
    "a = [input().replace('.', 'D') for _ in range(n)]\n",
    "flag = True\n",
    "for i in range(n):\n",
    "    for j in range(m):\n",
    "        if i>0 and {a[i][j], a[i-1][j]} == {'S', 'W'}:\n",
    "            flag = False\n",
    "        if j>0 and {a[i][j], a[i][j-1]} == {'S', 'W'}:\n",
    "            flag = False\n",
    "if flag:\n",
    "    print('Yes')\n",
    "    print('\\n'.join(a))\n",
    "else:\n",
    "    print('No')"
   ]
  },
  {
   "cell_type": "code",
   "execution_count": null,
   "metadata": {},
   "outputs": [],
   "source": []
  },
  {
   "cell_type": "code",
   "execution_count": 6,
   "metadata": {},
   "outputs": [
    {
     "ename": "KeyError",
     "evalue": "'D'",
     "output_type": "error",
     "traceback": [
      "\u001b[1;31m---------------------------------------------------------------------------\u001b[0m",
      "\u001b[1;31mKeyError\u001b[0m                                  Traceback (most recent call last)",
      "\u001b[1;32m<ipython-input-6-fed1d4387c31>\u001b[0m in \u001b[0;36m<module>\u001b[1;34m\u001b[0m\n\u001b[0;32m      1\u001b[0m \u001b[0mset1\u001b[0m\u001b[1;33m=\u001b[0m\u001b[1;33m{\u001b[0m\u001b[1;34m'E'\u001b[0m\u001b[1;33m}\u001b[0m\u001b[1;33m\u001b[0m\u001b[1;33m\u001b[0m\u001b[0m\n\u001b[1;32m----> 2\u001b[1;33m \u001b[0mset1\u001b[0m\u001b[1;33m.\u001b[0m\u001b[0mremove\u001b[0m\u001b[1;33m(\u001b[0m\u001b[1;34m'D'\u001b[0m\u001b[1;33m)\u001b[0m\u001b[1;33m\u001b[0m\u001b[1;33m\u001b[0m\u001b[0m\n\u001b[0m\u001b[0;32m      3\u001b[0m \u001b[0mprint\u001b[0m\u001b[1;33m(\u001b[0m\u001b[0mset1\u001b[0m\u001b[1;33m)\u001b[0m\u001b[1;33m\u001b[0m\u001b[1;33m\u001b[0m\u001b[0m\n",
      "\u001b[1;31mKeyError\u001b[0m: 'D'"
     ]
    }
   ],
   "source": [
    "set1={'E'}\n",
    "set1.remove('D')\n",
    "print(set1)"
   ]
  },
  {
   "cell_type": "code",
   "execution_count": 9,
   "metadata": {
    "scrolled": true
   },
   "outputs": [
    {
     "name": "stdout",
     "output_type": "stream",
     "text": [
      "6 6\n",
      "..S...\n",
      "..S.W.\n",
      ".S....\n",
      "..W...\n",
      "...W..\n",
      "......\n",
      "No\n"
     ]
    }
   ],
   "source": [
    "r,c=map(int,input().split())\n",
    "a=[input().replace('.','D') for x in range(r)]\n",
    "set1={'D'}\n",
    "flag=True\n",
    "for i in range(r):\n",
    "    for j in range(c):\n",
    "        if i>0:\n",
    "            set1.add(a[i][j])\n",
    "            set1.add(a[i-1][j])\n",
    "            if 'D' in set1:\n",
    "                set1.remove('D')\n",
    "            if(set1=={'S','W'}):\n",
    "                flag=False\n",
    "                break\n",
    "        if j>0:\n",
    "            set1.add(a[i][j])\n",
    "            set1.add(a[i][j-1])\n",
    "            if 'D' in set1:\n",
    "                set1.remove('D')\n",
    "            if(set1=={'S','W'}):\n",
    "                flag=False\n",
    "                break\n",
    "    if flag==False:\n",
    "        print('No')\n",
    "        break\n",
    "if flag==True:\n",
    "    print('Yes\\n')\n",
    "    for i in range(r):\n",
    "        for j in range(c):\n",
    "            print(a[i][j],end='')\n",
    "        print()\n",
    "            "
   ]
  },
  {
   "cell_type": "code",
   "execution_count": null,
   "metadata": {},
   "outputs": [],
   "source": [
    "set1{1,1,1,2}\n",
    "print(set1)"
   ]
  }
 ],
 "metadata": {
  "kernelspec": {
   "display_name": "Python 3",
   "language": "python",
   "name": "python3"
  },
  "language_info": {
   "codemirror_mode": {
    "name": "ipython",
    "version": 3
   },
   "file_extension": ".py",
   "mimetype": "text/x-python",
   "name": "python",
   "nbconvert_exporter": "python",
   "pygments_lexer": "ipython3",
   "version": "3.7.3"
  }
 },
 "nbformat": 4,
 "nbformat_minor": 2
}
