{
 "cells": [
  {
   "cell_type": "code",
   "execution_count": null,
   "metadata": {},
   "outputs": [],
   "source": [
    "#final\n",
    "import bisect\n",
    "n = int(input())\n",
    "prices = sorted(list(map(int,input().split()))) #this line is same as following two lines\n",
    "# prices = (list(map(int,input().split())))\n",
    "# prices.sort()\n",
    "day = int(input())\n",
    "for _ in range(day):\n",
    "    afford = int(input())\n",
    "    print(bisect.bisect_right(prices,afford))"
   ]
  },
  {
   "cell_type": "code",
   "execution_count": null,
   "metadata": {},
   "outputs": [],
   "source": [
    "def binarySearch(arr, left, right, x): \n",
    "  \n",
    "    while left <= right: \n",
    "  \n",
    "        mid = left + (right - left)//2;                 \n",
    "        if arr[mid] == x: \n",
    "            return mid,left\n",
    "          \n",
    "        elif arr[mid] < x: \n",
    "            left = mid + 1a\n",
    "#             print('left: ', left)          \n",
    "        else: \n",
    "            right = mid - 1\n",
    "#             print('right: ', right)\n",
    "      \n",
    "    return -1,left\n",
    "\n",
    "\n",
    "n = int(input())\n",
    "prices = list(map(int,input().split()))\n",
    "day = int(input())\n",
    "afford = []\n",
    "for i in range(day):\n",
    "    afford.append(int(input()))\n",
    "    \n",
    "prices.sort()\n",
    "\n",
    "for x in afford:\n",
    "    index,left = binarySearch(prices, 0, len(prices)-1, x)\n",
    "    if index==-1:\n",
    "        print(left)\n",
    "    else:\n",
    "        print(index+1)"
   ]
  }
 ],
 "metadata": {
  "kernelspec": {
   "display_name": "Python 3",
   "language": "python",
   "name": "python3"
  },
  "language_info": {
   "codemirror_mode": {
    "name": "ipython",
    "version": 3
   },
   "file_extension": ".py",
   "mimetype": "text/x-python",
   "name": "python",
   "nbconvert_exporter": "python",
   "pygments_lexer": "ipython3",
   "version": "3.7.3"
  }
 },
 "nbformat": 4,
 "nbformat_minor": 2
}
