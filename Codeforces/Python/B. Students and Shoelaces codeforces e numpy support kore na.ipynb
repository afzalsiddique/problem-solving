{
 "cells": [
  {
   "cell_type": "code",
   "execution_count": 2,
   "metadata": {},
   "outputs": [
    {
     "name": "stdout",
     "output_type": "stream",
     "text": [
      "3 3 1 2 2 3 3 1\n"
     ]
    },
    {
     "ename": "ValueError",
     "evalue": "too many values to unpack (expected 2)",
     "output_type": "error",
     "traceback": [
      "\u001b[1;31m---------------------------------------------------------------------------\u001b[0m",
      "\u001b[1;31mValueError\u001b[0m                                Traceback (most recent call last)",
      "\u001b[1;32m<ipython-input-2-71cdffd252df>\u001b[0m in \u001b[0;36m<module>\u001b[1;34m\u001b[0m\n\u001b[0;32m      1\u001b[0m \u001b[1;31m##FINAL\u001b[0m\u001b[1;33m\u001b[0m\u001b[1;33m\u001b[0m\u001b[1;33m\u001b[0m\u001b[0m\n\u001b[0;32m      2\u001b[0m \u001b[1;32mimport\u001b[0m \u001b[0mnumpy\u001b[0m \u001b[1;32mas\u001b[0m \u001b[0mnp\u001b[0m\u001b[1;33m\u001b[0m\u001b[1;33m\u001b[0m\u001b[0m\n\u001b[1;32m----> 3\u001b[1;33m \u001b[0mn\u001b[0m\u001b[1;33m,\u001b[0m\u001b[0mm\u001b[0m\u001b[1;33m=\u001b[0m\u001b[0mmap\u001b[0m\u001b[1;33m(\u001b[0m\u001b[0mint\u001b[0m\u001b[1;33m,\u001b[0m\u001b[0minput\u001b[0m\u001b[1;33m(\u001b[0m\u001b[1;33m)\u001b[0m\u001b[1;33m.\u001b[0m\u001b[0msplit\u001b[0m\u001b[1;33m(\u001b[0m\u001b[1;33m)\u001b[0m\u001b[1;33m)\u001b[0m\u001b[1;33m\u001b[0m\u001b[1;33m\u001b[0m\u001b[0m\n\u001b[0m\u001b[0;32m      4\u001b[0m \u001b[0mmat\u001b[0m\u001b[1;33m=\u001b[0m\u001b[0mnp\u001b[0m\u001b[1;33m.\u001b[0m\u001b[0mzeros\u001b[0m\u001b[1;33m(\u001b[0m\u001b[1;33m(\u001b[0m\u001b[0mn\u001b[0m\u001b[1;33m,\u001b[0m\u001b[0mn\u001b[0m\u001b[1;33m)\u001b[0m\u001b[1;33m)\u001b[0m\u001b[1;33m\u001b[0m\u001b[1;33m\u001b[0m\u001b[0m\n\u001b[0;32m      5\u001b[0m \u001b[1;32mfor\u001b[0m \u001b[0m_\u001b[0m \u001b[1;32min\u001b[0m \u001b[0mrange\u001b[0m\u001b[1;33m(\u001b[0m\u001b[0mm\u001b[0m\u001b[1;33m)\u001b[0m\u001b[1;33m:\u001b[0m\u001b[1;33m\u001b[0m\u001b[1;33m\u001b[0m\u001b[0m\n",
      "\u001b[1;31mValueError\u001b[0m: too many values to unpack (expected 2)"
     ]
    }
   ],
   "source": [
    "##FINAL\n",
    "import numpy as np\n",
    "n,m=map(int,input().split())\n",
    "mat=np.zeros((n,n))\n",
    "for _ in range(m):\n",
    "    i,j=map(int,input().split())\n",
    "    mat[i-1,j-1]=1\n",
    "    mat[j-1,i-1]=1\n",
    "flag=True\n",
    "\n",
    "count=0\n",
    "while flag:\n",
    "    sumOfRow = np.sum(mat,axis=0)\n",
    "    for x in sumOfRow:\n",
    "        if x==1:\n",
    "            count+=1\n",
    "            flag=True\n",
    "            break\n",
    "        elif x!=1:\n",
    "            flag=False\n",
    "    for i in range(n):\n",
    "        if sumOfRow[i]==1:\n",
    "            for j in range(n):\n",
    "                if mat[i,j]==1:\n",
    "                    mat[j,i]=0\n",
    "                    mat[i,j]=0\n",
    "        \n",
    "\n",
    "#print(mat)\n",
    "#print()\n",
    "print(count)"
   ]
  },
  {
   "cell_type": "code",
   "execution_count": null,
   "metadata": {},
   "outputs": [],
   "source": [
    "import numpy as np\n",
    "m=np.zeros((3,4))\n",
    "i,j=0,1\n",
    "print(m)\n",
    "m[1,0]=1\n",
    "m[0,1]=1\n",
    "m[1,2]=1\n",
    "m[2,1]=1\n",
    "print(m)\n",
    "sumOfRow = np.sum(m,axis=0)\n",
    "#print(np.sum(m,axis=0))\n",
    "count=0\n",
    "for i in range(3):\n",
    "    if sumOfRow[i]==1:\n",
    "        count+=1\n",
    "print(count)\n",
    "sumOfRow = np.sum(m,axis=0)\n",
    "for x in sumOfRow:\n",
    "    print(x,end=' ')\n",
    "print()\n",
    "print()\n",
    "for i in range(3):\n",
    "    if sumOfRow[i]==1:\n",
    "        for j in range(4):\n",
    "            if m[i,j]==1:\n",
    "                m[j,i]=0\n",
    "                m[i,j]=0\n",
    "print(m)\n"
   ]
  },
  {
   "cell_type": "code",
   "execution_count": null,
   "metadata": {},
   "outputs": [],
   "source": [
    "import numpy as np\n",
    "m=np.zeros((5,4))\n",
    "m[1,3]=1\n",
    "m[3,1]=1\n",
    "m[1,2]=1\n",
    "m[2,1]=1\n",
    "print(m)\n",
    "def chng(m,row,col):\n",
    "    li = np.sum(m,axis=0)\n",
    "    for k in li:\n",
    "        if li[k]==1:\n",
    "            for i in range(row):\n",
    "                for j in range(col):\n",
    "                    if m[i,j]==1:\n",
    "                        m[j,i]=0\n",
    "                        m[i,j]=0\n",
    "chng(m,5,4)\n",
    "print(m)"
   ]
  },
  {
   "cell_type": "code",
   "execution_count": null,
   "metadata": {},
   "outputs": [],
   "source": [
    "for x in li:\n",
    "    if li[x]==4:\n",
    "        for i in range(3):\n",
    "            for j in range(4):\n",
    "                if m[i,j]==4:\n",
    "                    m[j,i]=0\n",
    "                    m[i,j]=0\n",
    "print(m)"
   ]
  },
  {
   "cell_type": "code",
   "execution_count": null,
   "metadata": {},
   "outputs": [],
   "source": []
  },
  {
   "cell_type": "code",
   "execution_count": 8,
   "metadata": {
    "scrolled": true
   },
   "outputs": [
    {
     "name": "stdout",
     "output_type": "stream",
     "text": [
      "3 3\n",
      "1 2\n",
      "2 3\n",
      "3 1\n",
      "0\n"
     ]
    }
   ],
   "source": [
    "import numpy as np\n",
    "n,m=map(int,input().split())\n",
    "mat=np.zeros((n,n))\n",
    "for _ in range(m):\n",
    "    i,j=map(int,input().split())\n",
    "    mat[i-1,j-1]=1\n",
    "    mat[j-1,i-1]=1\n",
    "flag=True\n",
    "\n",
    "count=0\n",
    "while flag:\n",
    "    sumOfRow = np.sum(mat,axis=0)\n",
    "    for x in sumOfRow:\n",
    "        if x==1:\n",
    "            count+=1\n",
    "            flag=True\n",
    "            break\n",
    "        elif x!=1:\n",
    "            flag=False\n",
    "    for i in range(n):\n",
    "        if sumOfRow[i]==1:\n",
    "            for j in range(n):\n",
    "                if mat[i,j]==1:\n",
    "                    mat[j,i]=0\n",
    "                    mat[i,j]=0\n",
    "        \n",
    "\n",
    "#print(mat)\n",
    "#print()\n",
    "print(count)"
   ]
  }
 ],
 "metadata": {
  "kernelspec": {
   "display_name": "Python 3",
   "language": "python",
   "name": "python3"
  },
  "language_info": {
   "codemirror_mode": {
    "name": "ipython",
    "version": 3
   },
   "file_extension": ".py",
   "mimetype": "text/x-python",
   "name": "python",
   "nbconvert_exporter": "python",
   "pygments_lexer": "ipython3",
   "version": "3.7.3"
  }
 },
 "nbformat": 4,
 "nbformat_minor": 2
}
