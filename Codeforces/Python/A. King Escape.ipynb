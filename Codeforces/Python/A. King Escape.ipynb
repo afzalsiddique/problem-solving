{
 "cells": [
  {
   "cell_type": "code",
   "execution_count": 17,
   "metadata": {},
   "outputs": [
    {
     "name": "stdout",
     "output_type": "stream",
     "text": [
      "YES\n"
     ]
    }
   ],
   "source": [
    "n=int(input())\n",
    "#queen's cordinate\n",
    "qx,qy=map(int,input().split())\n",
    "#king's cordinate\n",
    "kx,ky=map(int,input().split())\n",
    "#destination\n",
    "dx,dy=map(int,input().split())\n",
    "des=(dx,dy)\n",
    "mylist=[]\n",
    "flag=True\n",
    "if qx==dx or qy==dy:\n",
    "    flag=False\n",
    "elif (dx>qx and kx<qx) or (dx<qx and kx>qx):\n",
    "    flag=False\n",
    "elif (dy>qy and ky<qy) or (dy<qy and ky>qy):\n",
    "    flag=False\n",
    "else:\n",
    "    i=qx\n",
    "    j=qy\n",
    "    while i-1>=0 and j+1<n:\n",
    "        i-=1\n",
    "        j+=1\n",
    "        mylist.append((i,j))\n",
    "\n",
    "    i=qx\n",
    "    j=qy  \n",
    "    while i+1<n and j-1>=0:\n",
    "        i+=1\n",
    "        j-=1\n",
    "        mylist.append((i,j))\n",
    "\n",
    "    i=qx\n",
    "    j=qy  \n",
    "    while i-1>=0 and j-1>=0:\n",
    "        i-=1\n",
    "        j-=1\n",
    "        mylist.append((i,j))\n",
    "\n",
    "    i=qx\n",
    "    j=qy  \n",
    "    while i+1<n and j+1<n:\n",
    "        i+=1\n",
    "        j+=1\n",
    "        mylist.append((i,j))\n",
    "    \n",
    "    if des in mylist:\n",
    "        flag=False\n",
    "\n",
    "if flag:\n",
    "    print('YES')\n",
    "else:\n",
    "    print('NO')\n",
    "#print(mylist)\n"
   ]
  },
  {
   "cell_type": "code",
   "execution_count": 18,
   "metadata": {},
   "outputs": [
    {
     "name": "stdout",
     "output_type": "stream",
     "text": [
      "2 4 1\n",
      "[2, 4, 1]\n"
     ]
    }
   ],
   "source": [
    "mylist=list(map(int,input().split()))\n",
    "print(mylist)"
   ]
  }
 ],
 "metadata": {
  "kernelspec": {
   "display_name": "Python 3",
   "language": "python",
   "name": "python3"
  },
  "language_info": {
   "codemirror_mode": {
    "name": "ipython",
    "version": 3
   },
   "file_extension": ".py",
   "mimetype": "text/x-python",
   "name": "python",
   "nbconvert_exporter": "python",
   "pygments_lexer": "ipython3",
   "version": "3.7.3"
  }
 },
 "nbformat": 4,
 "nbformat_minor": 2
}
