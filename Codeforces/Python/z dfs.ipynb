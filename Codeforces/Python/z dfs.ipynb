{
 "cells": [
  {
   "cell_type": "code",
   "execution_count": null,
   "metadata": {},
   "outputs": [],
   "source": [
    "#https://www.hackerearth.com/practice/notes/karthic-hackintosh/simple-explanation-of-implementation-of-dfs-in-python/\n",
    "def make_link(G,node1,node2):\n",
    "    if node1 not in G:\n",
    "        G[node1]= { }\n",
    "    (G[node1])[node2]= 1 \n",
    "    if node2 not in G:\n",
    "        G[node2]= {}\n",
    "    (G[node2])[node1]= 1 \n",
    "    return G\n",
    "\n",
    "connections = [('a','g'),('a','d'),('d','g'),('g','c')]\n",
    "G = {}\n",
    "for x,y in connections:make_link(G,x,y)\n",
    "\n",
    "print G"
   ]
  },
  {
   "cell_type": "code",
   "execution_count": null,
   "metadata": {},
   "outputs": [],
   "source": [
    "#https://eddmann.com/posts/depth-first-search-and-breadth-first-search-in-python/\n",
    "def dfs(graph, start, visited=None):\n",
    "    if visited is None:\n",
    "        visited = set()\n",
    "    visited.add(start)\n",
    "    for next in graph[start] - visited:\n",
    "        dfs(graph, next, visited)\n",
    "    return visited\n",
    "\n",
    "dfs(graph, 'C')"
   ]
  },
  {
   "cell_type": "code",
   "execution_count": null,
   "metadata": {},
   "outputs": [],
   "source": []
  }
 ],
 "metadata": {
  "kernelspec": {
   "display_name": "Python 3",
   "language": "python",
   "name": "python3"
  },
  "language_info": {
   "codemirror_mode": {
    "name": "ipython",
    "version": 3
   },
   "file_extension": ".py",
   "mimetype": "text/x-python",
   "name": "python",
   "nbconvert_exporter": "python",
   "pygments_lexer": "ipython3",
   "version": "3.7.3"
  }
 },
 "nbformat": 4,
 "nbformat_minor": 2
}
