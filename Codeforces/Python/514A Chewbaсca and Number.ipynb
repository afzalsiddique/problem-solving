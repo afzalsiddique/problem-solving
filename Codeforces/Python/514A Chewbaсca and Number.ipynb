{
 "cells": [
  {
   "cell_type": "code",
   "execution_count": 12,
   "metadata": {},
   "outputs": [
    {
     "name": "stdout",
     "output_type": "stream",
     "text": [
      "27\n",
      "22"
     ]
    }
   ],
   "source": [
    "def invert(digit):\n",
    "    if digit>4:\n",
    "        return (9-digit)\n",
    "    else:\n",
    "        return (digit)\n",
    "\n",
    "string=input()\n",
    "firstDigit=True\n",
    "for letter in string:\n",
    "    digit=int(letter)\n",
    "    if firstDigit==True:\n",
    "        if digit==9:\n",
    "            print(9,end='')\n",
    "        else:\n",
    "            print(invert(digit),end='')\n",
    "        firstDigit=False\n",
    "            \n",
    "    else:\n",
    "        print(invert(digit),end='')"
   ]
  }
 ],
 "metadata": {
  "kernelspec": {
   "display_name": "Python 3",
   "language": "python",
   "name": "python3"
  },
  "language_info": {
   "codemirror_mode": {
    "name": "ipython",
    "version": 3
   },
   "file_extension": ".py",
   "mimetype": "text/x-python",
   "name": "python",
   "nbconvert_exporter": "python",
   "pygments_lexer": "ipython3",
   "version": "3.7.5"
  }
 },
 "nbformat": 4,
 "nbformat_minor": 2
}
