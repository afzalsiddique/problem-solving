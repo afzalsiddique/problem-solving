{
 "cells": [
  {
   "cell_type": "code",
   "execution_count": null,
   "metadata": {},
   "outputs": [],
   "source": [
    "white=['Q','R','B','N','P']\n",
    "black=['q','r','b','n','p']\n",
    "points=[9,5,3,3,1]\n",
    "sum1,sum2=0,0\n",
    "for i in range(8):\n",
    "    line=input()\n",
    "    for char in line:\n",
    "        if char in white:\n",
    "            sum1+=points[white.index(char)]\n",
    "        elif char in black:\n",
    "            sum2+=points[black.index(char)]\n",
    "if sum1==sum2:\n",
    "    print('Draw')\n",
    "elif sum1>sum2:\n",
    "    print('White')\n",
    "else:\n",
    "    print('Black')"
   ]
  }
 ],
 "metadata": {
  "kernelspec": {
   "display_name": "Python 3",
   "language": "python",
   "name": "python3"
  },
  "language_info": {
   "codemirror_mode": {
    "name": "ipython",
    "version": 3
   },
   "file_extension": ".py",
   "mimetype": "text/x-python",
   "name": "python",
   "nbconvert_exporter": "python",
   "pygments_lexer": "ipython3",
   "version": "3.7.5"
  }
 },
 "nbformat": 4,
 "nbformat_minor": 2
}
