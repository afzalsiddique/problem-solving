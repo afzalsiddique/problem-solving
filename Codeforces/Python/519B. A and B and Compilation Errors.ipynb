{
 "cells": [
  {
   "cell_type": "code",
   "execution_count": 23,
   "metadata": {},
   "outputs": [
    {
     "name": "stdout",
     "output_type": "stream",
     "text": [
      "1 2 3\n",
      "3 2\n",
      "2\n"
     ]
    }
   ],
   "source": [
    "n = int(input())\n",
    "li1 = list(map(int,input().split()))\n",
    "li2 = list(map(int,input().split()))\n",
    "li3 = list(map(int,input().split()))\n",
    "\n",
    "for x in li2:\n",
    "    if x in li1:\n",
    "        li1.remove(x)\n",
    "print(li1[0])\n",
    "\n",
    "for x in li3:\n",
    "    if x in li2:\n",
    "        li2.remove(x)\n",
    "print(li2[0])\n"
   ]
  },
  {
   "cell_type": "code",
   "execution_count": 26,
   "metadata": {},
   "outputs": [
    {
     "name": "stdout",
     "output_type": "stream",
     "text": [
      "1 4 3 3 5 7\n",
      "3 7 5 4 3\n",
      "4 3 7 5\n",
      "1\n",
      "3\n"
     ]
    }
   ],
   "source": [
    "n = int(input())\n",
    "li1 = list(map(int,input().split()))\n",
    "li2 = list(map(int,input().split()))\n",
    "li3 = list(map(int,input().split()))\n",
    "\n",
    "li1.sort()\n",
    "li2.sort()\n",
    "li3.sort()\n",
    "li2.append(1000000001)\n",
    "li3.append(1000000001)\n",
    "for x in range(n):\n",
    "    if li1[x]!=li2[x]:\n",
    "        print(li1[x])\n",
    "        break\n",
    "\n",
    "for x in range(n-1):\n",
    "    if li2[x]!=li3[x]:\n",
    "        print(li2[x])\n",
    "        break\n"
   ]
  },
  {
   "cell_type": "code",
   "execution_count": 7,
   "metadata": {},
   "outputs": [
    {
     "name": "stdout",
     "output_type": "stream",
     "text": [
      "1 1 1 2 3\n"
     ]
    }
   ],
   "source": [
    "1 4 3 3 5 7\n",
    "3 7 5 4 3\n",
    "4 3 7 5"
   ]
  },
  {
   "cell_type": "code",
   "execution_count": 25,
   "metadata": {},
   "outputs": [
    {
     "name": "stdout",
     "output_type": "stream",
     "text": [
      "1000000005\n"
     ]
    }
   ],
   "source": [
    "ab = 1000000000\n",
    "print(ab+5)"
   ]
  }
 ],
 "metadata": {
  "kernelspec": {
   "display_name": "Python 3",
   "language": "python",
   "name": "python3"
  },
  "language_info": {
   "codemirror_mode": {
    "name": "ipython",
    "version": 3
   },
   "file_extension": ".py",
   "mimetype": "text/x-python",
   "name": "python",
   "nbconvert_exporter": "python",
   "pygments_lexer": "ipython3",
   "version": "3.7.3"
  }
 },
 "nbformat": 4,
 "nbformat_minor": 2
}
