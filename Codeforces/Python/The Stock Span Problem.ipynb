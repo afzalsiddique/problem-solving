{
 "cells": [
  {
   "cell_type": "code",
   "execution_count": 32,
   "metadata": {},
   "outputs": [
    {
     "name": "stdout",
     "output_type": "stream",
     "text": [
      "70 => 100 \n",
      "75 => 100 70 \n",
      "68 => 100 75 \n",
      "60 => 100 75 68 \n",
      "90 => 100 75 68 60 \n",
      "120 => 100 90 \n",
      "80 => 120 \n",
      "1 1 2 1 1 5 7 1 "
     ]
    }
   ],
   "source": [
    "def calculateSpan(price, S): \n",
    "      \n",
    "    n = len(price) \n",
    "    st = []  \n",
    "    st.append(0) \n",
    "    S[0] = 1\n",
    "  \n",
    "    for i in range(1, n): \n",
    "        print(price[i],'=>',end=' ')\n",
    "        printem(st,price)\n",
    "        while( len(st) > 0 and price[st[-1]] <= price[i]): \n",
    "            st.pop() \n",
    "        S[i] = i + 1 if len(st) <= 0 else (i - st[-1]) \n",
    "        st.append(i) \n",
    "  \n",
    "  \n",
    "def printArray(arr, n): \n",
    "    for i in range(0, n): \n",
    "        print (arr[i], end =\" \") \n",
    "  \n",
    "\n",
    "def printem(st,price):\n",
    "    for i in st:\n",
    "        print(price[i],end=' ')\n",
    "    print()\n",
    "    \n",
    "price = [100, 70, 75, 68,60,90, 120, 80]\n",
    "S = [0 for i in range(len(price)+1)] \n",
    "  \n",
    "# Fill the span values in array S[] \n",
    "calculateSpan(price, S) \n",
    "  \n",
    "# Print the calculated span values \n",
    "printArray(S, len(price)) "
   ]
  },
  {
   "cell_type": "code",
   "execution_count": 30,
   "metadata": {},
   "outputs": [
    {
     "name": "stdout",
     "output_type": "stream",
     "text": [
      "2 asd\n"
     ]
    }
   ],
   "source": [
    "print(2,'asd')"
   ]
  }
 ],
 "metadata": {
  "kernelspec": {
   "display_name": "Python 3",
   "language": "python",
   "name": "python3"
  },
  "language_info": {
   "codemirror_mode": {
    "name": "ipython",
    "version": 3
   },
   "file_extension": ".py",
   "mimetype": "text/x-python",
   "name": "python",
   "nbconvert_exporter": "python",
   "pygments_lexer": "ipython3",
   "version": "3.7.5"
  }
 },
 "nbformat": 4,
 "nbformat_minor": 2
}
