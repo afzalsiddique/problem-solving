{
 "cells": [
  {
   "cell_type": "code",
   "execution_count": 24,
   "metadata": {},
   "outputs": [
    {
     "name": "stdout",
     "output_type": "stream",
     "text": [
      "4 3\n",
      ".-.\n",
      "B-B\n",
      "-.-\n",
      "-B-\n",
      "...\n",
      "BWB\n",
      "--.\n",
      "--W\n"
     ]
    }
   ],
   "source": [
    "r,c=map(int,input().split())\n",
    "chess=['B','W']\n",
    "for i in range(r):\n",
    "    mylist=list(input())\n",
    "    for j in range(c):\n",
    "        if mylist[j]=='.':\n",
    "            mylist[j]=chess[(i+j)%2]\n",
    "    print(''.join(mylist))\n",
    "        \n"
   ]
  },
  {
   "cell_type": "code",
   "execution_count": 16,
   "metadata": {},
   "outputs": [
    {
     "name": "stdout",
     "output_type": "stream",
     "text": [
      "wwer\n",
      "wsdf\n",
      "wxcv\n"
     ]
    }
   ],
   "source": [
    "li=['qwer','asdf','zxcv']\n",
    "for word in li:\n",
    "    word='w'+word[1:]\n",
    "    print(word)"
   ]
  }
 ],
 "metadata": {
  "kernelspec": {
   "display_name": "Python 3",
   "language": "python",
   "name": "python3"
  },
  "language_info": {
   "codemirror_mode": {
    "name": "ipython",
    "version": 3
   },
   "file_extension": ".py",
   "mimetype": "text/x-python",
   "name": "python",
   "nbconvert_exporter": "python",
   "pygments_lexer": "ipython3",
   "version": "3.7.3"
  }
 },
 "nbformat": 4,
 "nbformat_minor": 2
}
