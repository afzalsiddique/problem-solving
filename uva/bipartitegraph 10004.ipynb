{
 "metadata": {
  "language_info": {
   "codemirror_mode": {
    "name": "ipython",
    "version": 3
   },
   "file_extension": ".py",
   "mimetype": "text/x-python",
   "name": "python",
   "nbconvert_exporter": "python",
   "pygments_lexer": "ipython3",
   "version": "3.8.2-final"
  },
  "orig_nbformat": 2,
  "kernelspec": {
   "name": "python38264bitf8e44e8609aa4132ba8c35289133c624",
   "display_name": "Python 3.8.2 64-bit"
  }
 },
 "nbformat": 4,
 "nbformat_minor": 2,
 "cells": [
  {
   "cell_type": "code",
   "execution_count": null,
   "metadata": {
    "tags": []
   },
   "outputs": [],
   "source": [
    "noOfNode = 3\n",
    "noOfEdge = 3\n",
    "inp = [(0,1),(1,2),(2,0)]\n",
    "\n",
    "# noOfNode = 9\n",
    "# noOfEdge = 8\n",
    "# inp = [(0,1),(0,2),(0,3),(0,4),(0,5),(0,6),(0,7),(0,8)]\n",
    "\n",
    "# noOfNode = 3\n",
    "# noOfEdge = 2\n",
    "# inp = [(0,1),(1,2)]\n",
    "\n",
    "\n",
    "def makeGraph(noOfEdge, inp):\n",
    "    graph = {}\n",
    "    for i in range(noOfEdge):\n",
    "        node1, node2 = inp[i]\n",
    "        if node1 not in graph.keys():\n",
    "            graph[node1] = []\n",
    "            graph[node1].append(node2)\n",
    "        else:\n",
    "            graph[node1].append(node2)\n",
    "        if node2 not in graph.keys():\n",
    "            graph[node2] = []\n",
    "            graph[node2].append(node1)\n",
    "        else:\n",
    "            graph[node2].append(node1)\n",
    "    return graph\n",
    "graph = makeGraph(noOfEdge, inp)\n",
    "print(graph)"
   ]
  },
  {
   "cell_type": "code",
   "execution_count": null,
   "metadata": {
    "tags": []
   },
   "outputs": [],
   "source": [
    "graph = makeGraph(noOfEdge, inp)\n",
    "color = [\"None\" for x in range(noOfNode)]\n",
    "color[0] = False\n",
    "\n",
    "#If all the adjacent nodes has opposite color to given node, the function returns true. Else it returns false.\n",
    "def checkAdjNode(node):\n",
    "    flag = True\n",
    "    li = graph[node]\n",
    "    for adjnode in li:\n",
    "        if color[adjnode] is \"None\":\n",
    "            color[adjnode] = not color[node]\n",
    "        else:\n",
    "            if color[node] == color[adjnode]:\n",
    "                flag = False\n",
    "        if flag==False:\n",
    "            return flag\n",
    "    return flag\n",
    "\n",
    "for i in range(noOfNode):\n",
    "    flag = checkAdjNode(i)\n",
    "    print(flag)\n",
    "    print(color)"
   ]
  },
  {
   "cell_type": "code",
   "execution_count": null,
   "metadata": {
    "tags": []
   },
   "outputs": [],
   "source": [
    "#the code below was submitted\n",
    "def makeGraph(noOfEdge, inp):\n",
    "    graph = {}\n",
    "    for i in range(noOfEdge):\n",
    "        node1, node2 = inp[i]\n",
    "        if node1 not in graph.keys():\n",
    "            graph[node1] = []\n",
    "            graph[node1].append(node2)\n",
    "        else:\n",
    "            graph[node1].append(node2)\n",
    "        if node2 not in graph.keys():\n",
    "            graph[node2] = []\n",
    "            graph[node2].append(node1)\n",
    "        else:\n",
    "            graph[node2].append(node1)\n",
    "    return graph\n",
    "\n",
    "def checkAdjNode(node):\n",
    "    flag = True\n",
    "    li = graph[node]\n",
    "    for adjnode in li:\n",
    "        if color[adjnode] is None:\n",
    "            color[adjnode] = not color[node]\n",
    "        else:\n",
    "            if color[node] == color[adjnode]:\n",
    "                flag = False\n",
    "        if flag==False:\n",
    "            return flag\n",
    "    return flag\n",
    "\n",
    "while(True):\n",
    "    noOfNode = int(input())\n",
    "    if noOfNode==0:\n",
    "        break\n",
    "    noOfEdge = int(input())\n",
    "    color = [None for x in range(noOfNode)]\n",
    "    color[0] = False\n",
    "    inp = []\n",
    "    for i in range(noOfEdge):\n",
    "        node1, node2 = map(int, input().split())\n",
    "        inp.append((node1,node2))\n",
    "    graph = makeGraph(noOfEdge, inp)\n",
    "    for i in range(noOfNode):\n",
    "        flag = checkAdjNode(i)\n",
    "        if flag==False:\n",
    "            break\n",
    "    if flag:\n",
    "        print(\"BICOLORABLE.\")\n",
    "    else:\n",
    "        print(\"NOT BICOLORABLE.\")"
   ]
  }
 ]
}