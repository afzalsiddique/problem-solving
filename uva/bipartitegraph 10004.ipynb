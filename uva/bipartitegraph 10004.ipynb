{
 "metadata": {
  "language_info": {
   "codemirror_mode": {
    "name": "ipython",
    "version": 3
   },
   "file_extension": ".py",
   "mimetype": "text/x-python",
   "name": "python",
   "nbconvert_exporter": "python",
   "pygments_lexer": "ipython3",
   "version": "3.8.2-final"
  },
  "orig_nbformat": 2,
  "kernelspec": {
   "name": "python38264bitf8e44e8609aa4132ba8c35289133c624",
   "display_name": "Python 3.8.2 64-bit"
  }
 },
 "nbformat": 4,
 "nbformat_minor": 2,
 "cells": [
  {
   "cell_type": "code",
   "execution_count": 17,
   "metadata": {
    "tags": []
   },
   "outputs": [
    {
     "output_type": "stream",
     "name": "stdout",
     "text": "{0: [1, 2], 1: [0, 2], 2: [1, 0]}\n"
    }
   ],
   "source": [
    "noOfEdge = 3\n",
    "inp = [(0,1),(1,2),(2,0)]\n",
    "def makeGraph(noOfEdge, inp):\n",
    "    graph = {}\n",
    "    for i in range(noOfEdge):\n",
    "        node1, node2 = inp[i]\n",
    "        if node1 not in graph.keys():\n",
    "            graph[node1] = []\n",
    "            graph[node1].append(node2)\n",
    "        else:\n",
    "            graph[node1].append(node2)\n",
    "        if node2 not in graph.keys():\n",
    "            graph[node2] = []\n",
    "            graph[node2].append(node1)\n",
    "        else:\n",
    "            graph[node2].append(node1)\n",
    "    return graph\n",
    "graph = makeGraph(noOfEdge, inp)\n",
    "print(graph)"
   ]
  },
  {
   "cell_type": "code",
   "execution_count": 13,
   "metadata": {
    "tags": []
   },
   "outputs": [
    {
     "output_type": "stream",
     "name": "stdout",
     "text": "1yes\nyes\n{1: 5, 2: 6}\n"
    }
   ],
   "source": [
    "dic = {1:5}\n",
    "dic[2]=6\n",
    "if 1 in dic.keys():\n",
    "    print(\"1yes\")\n",
    "if 2 in dic.keys():\n",
    "    print(\"yes\")\n",
    "print(dic)"
   ]
  }
 ]
}