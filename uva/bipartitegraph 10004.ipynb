{
 "metadata": {
  "language_info": {
   "codemirror_mode": {
    "name": "ipython",
    "version": 3
   },
   "file_extension": ".py",
   "mimetype": "text/x-python",
   "name": "python",
   "nbconvert_exporter": "python",
   "pygments_lexer": "ipython3",
   "version": "3.8.2-final"
  },
  "orig_nbformat": 2,
  "kernelspec": {
   "name": "python38264bitf8e44e8609aa4132ba8c35289133c624",
   "display_name": "Python 3.8.2 64-bit"
  }
 },
 "nbformat": 4,
 "nbformat_minor": 2,
 "cells": [
  {
   "cell_type": "code",
   "execution_count": 32,
   "metadata": {
    "tags": []
   },
   "outputs": [
    {
     "output_type": "stream",
     "name": "stdout",
     "text": "{0: [1, 2], 1: [0, 2], 2: [1, 0]}\n"
    }
   ],
   "source": [
    "noOfNode = 3\n",
    "noOfEdge = 3\n",
    "inp = [(0,1),(1,2),(2,0)]\n",
    "\n",
    "# noOfNode = 9\n",
    "# noOfEdge = 8\n",
    "# inp = [(0,1),(0,2),(0,3),(0,4),(0,5),(0,6),(0,7),(0,8)]\n",
    "\n",
    "# noOfNode = 3\n",
    "# noOfEdge = 2\n",
    "# inp = [(0,1),(1,2)]\n",
    "\n",
    "\n",
    "def makeGraph(noOfEdge, inp):\n",
    "    graph = {}\n",
    "    for i in range(noOfEdge):\n",
    "        node1, node2 = inp[i]\n",
    "        if node1 not in graph.keys():\n",
    "            graph[node1] = []\n",
    "            graph[node1].append(node2)\n",
    "        else:\n",
    "            graph[node1].append(node2)\n",
    "        if node2 not in graph.keys():\n",
    "            graph[node2] = []\n",
    "            graph[node2].append(node1)\n",
    "        else:\n",
    "            graph[node2].append(node1)\n",
    "    return graph\n",
    "graph = makeGraph(noOfEdge, inp)\n",
    "print(graph)"
   ]
  },
  {
   "cell_type": "code",
   "execution_count": 33,
   "metadata": {
    "tags": []
   },
   "outputs": [
    {
     "output_type": "stream",
     "name": "stdout",
     "text": "True\n[False, True, True]\nFalse\n[False, True, True]\nFalse\n[False, True, True]\n"
    }
   ],
   "source": [
    "graph = makeGraph(noOfEdge, inp)\n",
    "color = [\"None\" for x in range(noOfNode)]\n",
    "color[0] = False\n",
    "\n",
    "def checkAdjNode(node):\n",
    "    flag = True\n",
    "    li = graph[node]\n",
    "    for adjnode in li:\n",
    "        if color[adjnode] is \"None\":\n",
    "            color[adjnode] = not color[node]\n",
    "        else:\n",
    "            if color[node] == color[adjnode]:\n",
    "                flag = False\n",
    "        if flag==False:\n",
    "            return flag\n",
    "    return flag\n",
    "\n",
    "for i in range(noOfNode):\n",
    "    flag = checkAdjNode(i)\n",
    "    print(flag)\n",
    "    print(color)"
   ]
  },
  {
   "cell_type": "code",
   "execution_count": 38,
   "metadata": {
    "tags": []
   },
   "outputs": [
    {
     "output_type": "error",
     "ename": "IndexError",
     "evalue": "list index out of range",
     "traceback": [
      "\u001b[0;31m---------------------------------------------------------------------------\u001b[0m",
      "\u001b[0;31mIndexError\u001b[0m                                Traceback (most recent call last)",
      "\u001b[0;32m<ipython-input-38-956dc64fe8e5>\u001b[0m in \u001b[0;36m<module>\u001b[0;34m\u001b[0m\n\u001b[1;32m     36\u001b[0m     \u001b[0mnode1\u001b[0m\u001b[0;34m,\u001b[0m \u001b[0mnode2\u001b[0m \u001b[0;34m=\u001b[0m \u001b[0mmap\u001b[0m\u001b[0;34m(\u001b[0m\u001b[0mint\u001b[0m\u001b[0;34m,\u001b[0m \u001b[0minput\u001b[0m\u001b[0;34m(\u001b[0m\u001b[0;34m)\u001b[0m\u001b[0;34m.\u001b[0m\u001b[0msplit\u001b[0m\u001b[0;34m(\u001b[0m\u001b[0;34m)\u001b[0m\u001b[0;34m)\u001b[0m\u001b[0;34m\u001b[0m\u001b[0;34m\u001b[0m\u001b[0m\n\u001b[1;32m     37\u001b[0m     \u001b[0minp\u001b[0m\u001b[0;34m.\u001b[0m\u001b[0mappend\u001b[0m\u001b[0;34m(\u001b[0m\u001b[0;34m(\u001b[0m\u001b[0mnode1\u001b[0m\u001b[0;34m,\u001b[0m\u001b[0mnode2\u001b[0m\u001b[0;34m)\u001b[0m\u001b[0;34m)\u001b[0m\u001b[0;34m\u001b[0m\u001b[0;34m\u001b[0m\u001b[0m\n\u001b[0;32m---> 38\u001b[0;31m     \u001b[0mgraph\u001b[0m \u001b[0;34m=\u001b[0m \u001b[0mmakeGraph\u001b[0m\u001b[0;34m(\u001b[0m\u001b[0mnoOfEdge\u001b[0m\u001b[0;34m,\u001b[0m \u001b[0minp\u001b[0m\u001b[0;34m)\u001b[0m\u001b[0;34m\u001b[0m\u001b[0;34m\u001b[0m\u001b[0m\n\u001b[0m\u001b[1;32m     39\u001b[0m \u001b[0;32mfor\u001b[0m \u001b[0mi\u001b[0m \u001b[0;32min\u001b[0m \u001b[0mrange\u001b[0m\u001b[0;34m(\u001b[0m\u001b[0mnoOfNode\u001b[0m\u001b[0;34m)\u001b[0m\u001b[0;34m:\u001b[0m\u001b[0;34m\u001b[0m\u001b[0;34m\u001b[0m\u001b[0m\n\u001b[1;32m     40\u001b[0m     \u001b[0mflag\u001b[0m \u001b[0;34m=\u001b[0m \u001b[0mcheckAdjNode\u001b[0m\u001b[0;34m(\u001b[0m\u001b[0mi\u001b[0m\u001b[0;34m)\u001b[0m\u001b[0;34m\u001b[0m\u001b[0;34m\u001b[0m\u001b[0m\n",
      "\u001b[0;32m<ipython-input-38-956dc64fe8e5>\u001b[0m in \u001b[0;36mmakeGraph\u001b[0;34m(noOfEdge, inp)\u001b[0m\n\u001b[1;32m      2\u001b[0m     \u001b[0mgraph\u001b[0m \u001b[0;34m=\u001b[0m \u001b[0;34m{\u001b[0m\u001b[0;34m}\u001b[0m\u001b[0;34m\u001b[0m\u001b[0;34m\u001b[0m\u001b[0m\n\u001b[1;32m      3\u001b[0m     \u001b[0;32mfor\u001b[0m \u001b[0mi\u001b[0m \u001b[0;32min\u001b[0m \u001b[0mrange\u001b[0m\u001b[0;34m(\u001b[0m\u001b[0mnoOfEdge\u001b[0m\u001b[0;34m)\u001b[0m\u001b[0;34m:\u001b[0m\u001b[0;34m\u001b[0m\u001b[0;34m\u001b[0m\u001b[0m\n\u001b[0;32m----> 4\u001b[0;31m         \u001b[0mnode1\u001b[0m\u001b[0;34m,\u001b[0m \u001b[0mnode2\u001b[0m \u001b[0;34m=\u001b[0m \u001b[0minp\u001b[0m\u001b[0;34m[\u001b[0m\u001b[0mi\u001b[0m\u001b[0;34m]\u001b[0m\u001b[0;34m\u001b[0m\u001b[0;34m\u001b[0m\u001b[0m\n\u001b[0m\u001b[1;32m      5\u001b[0m         \u001b[0;32mif\u001b[0m \u001b[0mnode1\u001b[0m \u001b[0;32mnot\u001b[0m \u001b[0;32min\u001b[0m \u001b[0mgraph\u001b[0m\u001b[0;34m.\u001b[0m\u001b[0mkeys\u001b[0m\u001b[0;34m(\u001b[0m\u001b[0;34m)\u001b[0m\u001b[0;34m:\u001b[0m\u001b[0;34m\u001b[0m\u001b[0;34m\u001b[0m\u001b[0m\n\u001b[1;32m      6\u001b[0m             \u001b[0mgraph\u001b[0m\u001b[0;34m[\u001b[0m\u001b[0mnode1\u001b[0m\u001b[0;34m]\u001b[0m \u001b[0;34m=\u001b[0m \u001b[0;34m[\u001b[0m\u001b[0;34m]\u001b[0m\u001b[0;34m\u001b[0m\u001b[0;34m\u001b[0m\u001b[0m\n",
      "\u001b[0;31mIndexError\u001b[0m: list index out of range"
     ]
    }
   ],
   "source": [
    "def makeGraph(noOfEdge, inp):\n",
    "    graph = {}\n",
    "    for i in range(noOfEdge):\n",
    "        node1, node2 = inp[i]\n",
    "        if node1 not in graph.keys():\n",
    "            graph[node1] = []\n",
    "            graph[node1].append(node2)\n",
    "        else:\n",
    "            graph[node1].append(node2)\n",
    "        if node2 not in graph.keys():\n",
    "            graph[node2] = []\n",
    "            graph[node2].append(node1)\n",
    "        else:\n",
    "            graph[node2].append(node1)\n",
    "    return graph\n",
    "\n",
    "def checkAdjNode(node):\n",
    "    flag = True\n",
    "    li = graph[node]\n",
    "    for adjnode in li:\n",
    "        if color[adjnode] is None:\n",
    "            color[adjnode] = not color[node]\n",
    "        else:\n",
    "            if color[node] == color[adjnode]:\n",
    "                flag = False\n",
    "        if flag==False:\n",
    "            return flag\n",
    "    return flag\n",
    "\n",
    "noOfNode = int(input())\n",
    "noOfEdge = int(input())\n",
    "color = [None for x in range(noOfNode)]\n",
    "color[0] = False\n",
    "inp = []\n",
    "for i in range(noOfEdge):\n",
    "    node1, node2 = map(int, input().split())\n",
    "    inp.append((node1,node2))\n",
    "graph = makeGraph(noOfEdge, inp)\n",
    "for i in range(noOfNode):\n",
    "    flag = checkAdjNode(i)\n",
    "    print(flag)\n",
    "    print(color)\n",
    "#     if flag==False:\n",
    "#         print(\"NOT BICOLORABLE.\")\n",
    "#         break\n",
    "# print(\"BICOLORABLE.\")\n",
    "# print(color)"
   ]
  }
 ]
}