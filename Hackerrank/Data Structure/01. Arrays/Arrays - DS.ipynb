{
 "cells": [
  {
   "cell_type": "code",
   "execution_count": 14,
   "metadata": {},
   "outputs": [
    {
     "output_type": "stream",
     "name": "stdout",
     "text": "[5, 34, 2, 1]\n"
    }
   ],
   "source": [
    "#!/bin/python3\n",
    "\n",
    "# import math\n",
    "# import os\n",
    "# import random\n",
    "# import re\n",
    "# import sys\n",
    "\n",
    "# Complete the reverseArray function below.\n",
    "def reverseArray(a):\n",
    "    ar = []\n",
    "    for item in a[::-1]:\n",
    "        ar.append(item)\n",
    "    return ar\n",
    "\n",
    "        \n",
    "# if __name__ == '__main__':\n",
    "#     fptr = open(os.environ['OUTPUT_PATH'], 'w')\n",
    "\n",
    "    # arr_count = int(input())\n",
    "\n",
    "    # arr = list(map(int, input().rstrip().split()))\n",
    "\n",
    "    # res = reverseArray(arr)\n",
    "\n",
    "    # fptr.write(' '.join(map(str, res)))\n",
    "    # fptr.write('\\n')\n",
    "\n",
    "    # fptr.close()\n"
   ]
  }
 ],
 "metadata": {
  "language_info": {
   "codemirror_mode": {
    "name": "ipython",
    "version": 3
   },
   "file_extension": ".py",
   "mimetype": "text/x-python",
   "name": "python",
   "nbconvert_exporter": "python",
   "pygments_lexer": "ipython3",
   "version": "3.7.7-final"
  },
  "orig_nbformat": 2,
  "kernelspec": {
   "name": "python37664bitad5ef1f6f7a34c75be890919850e558e",
   "display_name": "Python 3.7.6 64-bit"
  }
 },
 "nbformat": 4,
 "nbformat_minor": 2
}