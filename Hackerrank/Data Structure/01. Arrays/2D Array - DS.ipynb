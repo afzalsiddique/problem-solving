{
 "cells": [
  {
   "cell_type": "code",
   "execution_count": 6,
   "metadata": {},
   "outputs": [],
   "source": [
    "#!/bin/python3\n",
    "\n",
    "# import math\n",
    "# import os\n",
    "# import random\n",
    "# import re\n",
    "# import sys\n",
    "\n",
    "# Complete the hourglassSum function below.\n",
    "def hourglassSum(arr):\n",
    "    maxx = -999\n",
    "    for i in range(4):\n",
    "        for j in range(4):\n",
    "            summ = 0\n",
    "            summ += arr[i][j]\n",
    "            summ += arr[i][j+1]\n",
    "            summ += arr[i][j+2]\n",
    "            summ += arr[i+1][j+1]\n",
    "            summ += arr[i+2][j]\n",
    "            summ += arr[i+2][j+1]\n",
    "            summ += arr[i+2][j+2]\n",
    "            # print(summ)\n",
    "            maxx =max(maxx, summ)\n",
    "    return maxx\n",
    "\n",
    "# if __name__ == '__main__':\n",
    "#     fptr = open(os.environ['OUTPUT_PATH'], 'w')\n",
    "\n",
    "#     arr = []\n",
    "\n",
    "#     for _ in range(6):\n",
    "#         arr.append(list(map(int, input().rstrip().split())))\n",
    "\n",
    "#     result = hourglassSum(arr)\n",
    "\n",
    "#     fptr.write(str(result) + '\\n')\n",
    "\n",
    "#     fptr.close()\n"
   ]
  }
 ],
 "metadata": {
  "language_info": {
   "codemirror_mode": {
    "name": "ipython",
    "version": 3
   },
   "file_extension": ".py",
   "mimetype": "text/x-python",
   "name": "python",
   "nbconvert_exporter": "python",
   "pygments_lexer": "ipython3",
   "version": "3.7.7-final"
  },
  "orig_nbformat": 2,
  "kernelspec": {
   "name": "python37664bitad5ef1f6f7a34c75be890919850e558e",
   "display_name": "Python 3.7.6 64-bit"
  }
 },
 "nbformat": 4,
 "nbformat_minor": 2
}