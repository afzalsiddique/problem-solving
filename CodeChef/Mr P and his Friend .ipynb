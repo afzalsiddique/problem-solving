{
 "cells": [
  {
   "cell_type": "code",
   "execution_count": 23,
   "metadata": {},
   "outputs": [
    {
     "name": "stdout",
     "output_type": "stream",
     "text": [
      "{1: 3, 3: 2, 2: 4}\n",
      "4\n",
      "5\n"
     ]
    }
   ],
   "source": [
    "for i in range(int(input())):\n",
    "    n=int(input())\n",
    "    arr=[int(x) for x in input().split()]\n",
    "    d={}\n",
    "    for item in arr:\n",
    "        if item not in d:\n",
    "            d[item]=1\n",
    "        else:\n",
    "            d[item]+=1\n",
    "    # print(d)\n",
    "    maxx=0\n",
    "    for key in d:\n",
    "        if d[key]>maxx:\n",
    "            maxx=d[key]\n",
    "    # print(maxx)\n",
    "    print(n-maxx)"
   ]
  }
 ],
 "metadata": {
  "kernelspec": {
   "display_name": "Python 3",
   "language": "python",
   "name": "python3"
  },
  "language_info": {
   "codemirror_mode": {
    "name": "ipython",
    "version": 3
   },
   "file_extension": ".py",
   "mimetype": "text/x-python",
   "name": "python",
   "nbconvert_exporter": "python",
   "pygments_lexer": "ipython3",
   "version": "3.7.5"
  }
 },
 "nbformat": 4,
 "nbformat_minor": 2
}
