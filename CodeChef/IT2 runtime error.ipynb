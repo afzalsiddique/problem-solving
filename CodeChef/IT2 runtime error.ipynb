{
 "cells": [
  {
   "cell_type": "code",
   "execution_count": 7,
   "metadata": {},
   "outputs": [
    {
     "name": "stdout",
     "output_type": "stream",
     "text": [
      "PAPAINOEL\n",
      "JOULUPUKKI\n",
      "JOULNAPAOILELUPUKKI\n",
      "NO\n"
     ]
    }
   ],
   "source": [
    "first = input()\n",
    "second = input()\n",
    "letters = input()\n",
    "mp1,mp2={},{}\n",
    "for letter in first:\n",
    "    if letter not in mp1:\n",
    "        mp1[letter]=1\n",
    "    else:\n",
    "        mp1[letter]+=1\n",
    "for letter in second:\n",
    "    if letter not in mp1:\n",
    "        mp1[letter]=1\n",
    "    else:\n",
    "        mp1[letter]+=1\n",
    "for letter in letters:\n",
    "    if letter not in mp2:\n",
    "        mp2[letter]=1\n",
    "    else:\n",
    "        mp2[letter]+=1\n",
    "ans=\"YES\"\n",
    "for key in mp1:\n",
    "    if mp1[key]>mp2[key]:\n",
    "        ans=\"NO\"\n",
    "        break\n",
    "print(ans)"
   ]
  }
 ],
 "metadata": {
  "kernelspec": {
   "display_name": "Python 3",
   "language": "python",
   "name": "python3"
  },
  "language_info": {
   "codemirror_mode": {
    "name": "ipython",
    "version": 3
   },
   "file_extension": ".py",
   "mimetype": "text/x-python",
   "name": "python",
   "nbconvert_exporter": "python",
   "pygments_lexer": "ipython3",
   "version": "3.7.5"
  }
 },
 "nbformat": 4,
 "nbformat_minor": 2
}
