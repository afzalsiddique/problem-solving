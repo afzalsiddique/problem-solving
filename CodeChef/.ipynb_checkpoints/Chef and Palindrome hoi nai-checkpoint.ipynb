{
 "cells": [
  {
   "cell_type": "code",
   "execution_count": null,
   "metadata": {},
   "outputs": [],
   "source": [
    "s=input()\n",
    "s = s.lower()"
   ]
  },
  {
   "cell_type": "code",
   "execution_count": 71,
   "metadata": {},
   "outputs": [],
   "source": [
    "s='aba'\n",
    "s = s.lower()"
   ]
  },
  {
   "cell_type": "code",
   "execution_count": 73,
   "metadata": {
    "scrolled": true
   },
   "outputs": [
    {
     "name": "stdout",
     "output_type": "stream",
     "text": [
      "Yes\n",
      "{'a': 2, 'b': 1}\n"
     ]
    }
   ],
   "source": [
    "d={}\n",
    "for letter in s:\n",
    "    if letter not in d:\n",
    "        d[letter]=1\n",
    "    else:\n",
    "        d[letter]+=1\n",
    "\n",
    "oddCount=0\n",
    "for value in d.values():\n",
    "    if oddCount==2:\n",
    "        break\n",
    "    elif value%2:\n",
    "        oddCount+=1\n",
    "if len(s)%2:\n",
    "    if oddCount==1:\n",
    "        print(\"Yes\")\n",
    "    else:\n",
    "        print(\"No\")\n",
    "else:\n",
    "    if oddCount==0:\n",
    "        print(\"Yes\")\n",
    "    else:\n",
    "        print(\"No\")\n",
    "# print(d)"
   ]
  }
 ],
 "metadata": {
  "kernelspec": {
   "display_name": "Python 3",
   "language": "python",
   "name": "python3"
  },
  "language_info": {
   "codemirror_mode": {
    "name": "ipython",
    "version": 3
   },
   "file_extension": ".py",
   "mimetype": "text/x-python",
   "name": "python",
   "nbconvert_exporter": "python",
   "pygments_lexer": "ipython3",
   "version": "3.7.5"
  }
 },
 "nbformat": 4,
 "nbformat_minor": 2
}
