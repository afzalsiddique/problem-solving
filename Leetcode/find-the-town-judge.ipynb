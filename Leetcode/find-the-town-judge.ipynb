{
 "metadata": {
  "language_info": {
   "codemirror_mode": {
    "name": "ipython",
    "version": 3
   },
   "file_extension": ".py",
   "mimetype": "text/x-python",
   "name": "python",
   "nbconvert_exporter": "python",
   "pygments_lexer": "ipython3",
   "version": "3.8.2-final"
  },
  "orig_nbformat": 2,
  "kernelspec": {
   "name": "python38264bitf8e44e8609aa4132ba8c35289133c624",
   "display_name": "Python 3.8.2 64-bit"
  }
 },
 "nbformat": 4,
 "nbformat_minor": 2,
 "cells": [
  {
   "cell_type": "code",
   "execution_count": 25,
   "metadata": {
    "tags": []
   },
   "outputs": [
    {
     "output_type": "stream",
     "name": "stdout",
     "text": "3\n3\n-1\n1\n"
    }
   ],
   "source": [
    "def findJudge(N, trust):\n",
    "    if N==1:\n",
    "        return 1\n",
    "    trustHowMany = {}\n",
    "    trustedBy = {}\n",
    "    for item in trust:\n",
    "        person1, person2 = item[0],item[1]\n",
    "        if person1 in trustHowMany:\n",
    "            trustHowMany[person1]+=1\n",
    "        else:\n",
    "            trustHowMany[person1]=1\n",
    "        if person2 in trustedBy:\n",
    "            trustedBy[person2]+=1\n",
    "        else:\n",
    "            trustedBy[person2]=1\n",
    "    # print(trustedBy)\n",
    "    # print(trustHowMany)\n",
    "    for person in trustedBy.keys():\n",
    "        if trustedBy[person] == N-1:\n",
    "            if person not in trustHowMany:\n",
    "                return person\n",
    "                break\n",
    "    return -1\n",
    "\n",
    "trust = [[1,3],[1,4],[2,3],[2,4],[4,3]]\n",
    "N = 4\n",
    "print(findJudge(N, trust))\n",
    "trust = [[1,3],[2,3]]\n",
    "N = 3\n",
    "print(findJudge(N, trust))\n",
    "trust = [[1,3],[2,3],[3,1]]\n",
    "N = 3\n",
    "print(findJudge(N, trust))\n",
    "trust = []\n",
    "N = 1\n",
    "print(findJudge(N, trust))"
   ]
  }
 ]
}