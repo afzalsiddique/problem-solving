{
 "metadata": {
  "language_info": {
   "codemirror_mode": {
    "name": "ipython",
    "version": 3
   },
   "file_extension": ".py",
   "mimetype": "text/x-python",
   "name": "python",
   "nbconvert_exporter": "python",
   "pygments_lexer": "ipython3",
   "version": "3.8.2-final"
  },
  "orig_nbformat": 2,
  "kernelspec": {
   "name": "python38264bitf8e44e8609aa4132ba8c35289133c624",
   "display_name": "Python 3.8.2 64-bit"
  }
 },
 "nbformat": 4,
 "nbformat_minor": 2,
 "cells": [
  {
   "cell_type": "code",
   "execution_count": 13,
   "metadata": {
    "tags": []
   },
   "outputs": [
    {
     "output_type": "stream",
     "name": "stdout",
     "text": "[[1, 3, 2], [0, 2, 3], [1, 3, 0], [2, 0, 1]]\nneighbor_colors: [0, 0, 0]\nresult: [1, 0, 0, 0]\nneighbor_colors: [1, 0, 0]\nresult: [1, 2, 0, 0]\nneighbor_colors: [2, 0, 1]\nresult: [1, 2, 3, 0]\nneighbor_colors: [3, 1, 2]\nresult: [1, 2, 3, 4]\nresult: [1, 2, 3, 4]\n"
    }
   ],
   "source": [
    "def gardenNoAdj(N, paths):\n",
    "    flowerType = [0] * (N+1)\n",
    "    flowerType[0] = None\n",
    "    graph = [[] for i in range(N+1)]\n",
    "    graph[0] = None\n",
    "    for path1,path2 in paths:\n",
    "        graph[path1].append(path2)\n",
    "        graph[path2].append(path1)\n",
    "    for garden in range(1,N+1):\n",
    "        neighbor_colors = [flowerType[neighbor] for neighbor in graph[garden]]\n",
    "        for color in range(1,N+1):\n",
    "            if color in neighbor_colors:\n",
    "                continue\n",
    "            flowerType[garden] = color\n",
    "            break\n",
    "    return flowerType[1:]\n",
    "N = 4\n",
    "paths = [[1,2],[2,3],[3,4],[4,1],[1,3],[2,4]]\n",
    "print(gardenNoAdj(N, paths))"
   ]
  }
 ]
}